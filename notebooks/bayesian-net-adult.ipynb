{
 "cells": [
  {
   "cell_type": "markdown",
   "metadata": {},
   "source": [
    "# Fair Bayesian Network Implementation\n",
    "\n",
    "In this notebook, a fair bayesian network implementation is performed.\n",
    "\n",
    "## Imports"
   ]
  },
  {
   "cell_type": "code",
   "execution_count": 7,
   "metadata": {},
   "outputs": [],
   "source": [
    "import pandas as pd\n",
    "import sys\n",
    "import os\n",
    "from sklearn.preprocessing import LabelEncoder\n",
    "from sklearn.metrics import f1_score, balanced_accuracy_score, roc_curve\n",
    "import matplotlib.pyplot as plt\n",
    "from pgmpy.models import NaiveBayes\n",
    "pd.set_option('display.float_format', lambda x: '%.5f' % x)\n",
    "label_encoder = LabelEncoder()\n",
    "\n",
    "module_path = os.path.abspath(os.path.join(\"..\"))\n",
    "if module_path not in sys.path:\n",
    "    sys.path.append(module_path)\n",
    "\n",
    "from forseti.datproc import translate_categorical\n",
    "from forseti.bayesnet import latentLabelClassifier"
   ]
  },
  {
   "cell_type": "markdown",
   "metadata": {},
   "source": [
    "## Clean Data and Train Bayesian Network"
   ]
  },
  {
   "cell_type": "code",
   "execution_count": 8,
   "metadata": {},
   "outputs": [],
   "source": [
    "df = pd.read_csv('data/adult.csv')\n",
    "sensitives = ['gender', 'race']\n",
    "label = 'income'\n",
    "\n",
    "train = df[:30000]\n",
    "test = df[30000:]\n",
    "\n",
    "clf = latentLabelClassifier(\n",
    "    train,\n",
    "    sensitives,\n",
    "    label,\n",
    "    atol=0.01\n",
    ")\n",
    "\n",
    "clf.load('trained-models/fair_model_30000.sav')"
   ]
  },
  {
   "cell_type": "markdown",
   "metadata": {},
   "source": [
    "## Predict on new data"
   ]
  },
  {
   "cell_type": "code",
   "execution_count": 9,
   "metadata": {},
   "outputs": [],
   "source": [
    "tmp, _ = translate_categorical(test);\n",
    "y = tmp['income'];\n",
    "tmp = tmp.drop('income', axis=1);"
   ]
  },
  {
   "cell_type": "code",
   "execution_count": 14,
   "metadata": {},
   "outputs": [],
   "source": [
    "y_pred = clf.predict_probability(tmp)\n",
    "\n",
    "# Replace NA with prior prediction\n",
    "naindexes = y_pred.isna().any(axis=1)\n",
    "y_pred[naindexes] = 0\n",
    "y_pred.to_csv('results/y_pred_probability.csv')"
   ]
  },
  {
   "cell_type": "markdown",
   "metadata": {},
   "source": [
    "## Save Predictions to File"
   ]
  },
  {
   "cell_type": "code",
   "execution_count": null,
   "metadata": {},
   "outputs": [],
   "source": [
    "y_pred_label_fair = (y_pred['fair_0'] >= 0.5).astype('int')\n",
    "y_pred_label_fair.to_csv('results/y_pred_label_fair.csv')\n",
    "\n",
    "y_pred_label_fair = (y_pred['income_1'] >= 0.5).astype('int')\n",
    "y_pred_label_fair.to_csv('results/y_pred_label_income.csv')"
   ]
  },
  {
   "cell_type": "markdown",
   "metadata": {},
   "source": [
    "# Naive Bayes with sensitive attributes"
   ]
  },
  {
   "cell_type": "code",
   "execution_count": null,
   "metadata": {},
   "outputs": [],
   "source": [
    "tmp_train, codes_train = translate_categorical(train.copy(deep=True))\n",
    "\n",
    "from pgmpy.models import NaiveBayes\n",
    "\n",
    "model = NaiveBayes()\n",
    "model.fit(tmp_train, 'income')"
   ]
  },
  {
   "cell_type": "markdown",
   "metadata": {},
   "source": [
    "## Predict and save predictions"
   ]
  },
  {
   "cell_type": "code",
   "execution_count": null,
   "metadata": {},
   "outputs": [
    {
     "name": "stderr",
     "output_type": "stream",
     "text": [
      "100%|██████████| 10925/10925 [02:03<00:00, 88.56it/s] \n",
      "C:\\tools\\Anaconda3\\envs\\forseti\\lib\\site-packages\\pgmpy\\models\\BayesianNetwork.py:744: FutureWarning: Passing a set as an indexer is deprecated and will raise in a future version. Use a list instead.\n",
      "  return data.merge(data_with_results, how=\"left\").loc[:, missing_variables]\n"
     ]
    }
   ],
   "source": [
    "y_pred_naive = model.predict(tmp)\n",
    "y_pred_naive.to_csv('results/y_pred_label_naive_bayes_sensitive.csv')\n",
    "y_pred_prob_naive = model.predict_probability(tmp)\n",
    "y_pred_prob_naive.to_csv('results/y_pred_probability_naive_bayes_sensitive.csv')"
   ]
  },
  {
   "cell_type": "markdown",
   "metadata": {},
   "source": [
    "# Naive Bayes without sensitive attributes"
   ]
  },
  {
   "cell_type": "code",
   "execution_count": null,
   "metadata": {},
   "outputs": [],
   "source": [
    "tmp_train, codes_train = translate_categorical(train.copy(deep=True))\n",
    "tmp_train = tmp_train.drop(sensitives, axis=1)\n",
    "\n",
    "from pgmpy.models import NaiveBayes\n",
    "\n",
    "model = NaiveBayes()\n",
    "model.fit(tmp_train, 'income')"
   ]
  },
  {
   "cell_type": "markdown",
   "metadata": {},
   "source": [
    "## Predict and save predictions"
   ]
  },
  {
   "cell_type": "code",
   "execution_count": null,
   "metadata": {},
   "outputs": [
    {
     "name": "stderr",
     "output_type": "stream",
     "text": [
      "100%|██████████| 9195/9195 [01:08<00:00, 134.10it/s]\n",
      "C:\\tools\\Anaconda3\\envs\\forseti\\lib\\site-packages\\pgmpy\\models\\BayesianNetwork.py:744: FutureWarning: Passing a set as an indexer is deprecated and will raise in a future version. Use a list instead.\n",
      "  return data.merge(data_with_results, how=\"left\").loc[:, missing_variables]\n"
     ]
    }
   ],
   "source": [
    "tmp = tmp.drop(sensitives, axis=1)\n",
    "y_pred_naive = model.predict(tmp)\n",
    "y_pred_naive.to_csv('results/y_pred_label_naive_bayes.csv')\n",
    "y_pred_prob_naive = model.predict_probability(tmp)\n",
    "y_pred_prob_naive.to_csv('results/y_pred_probability_naive_bayes.csv')"
   ]
  },
  {
   "cell_type": "markdown",
   "metadata": {},
   "source": [
    "## Compas Dataset"
   ]
  },
  {
   "cell_type": "code",
   "execution_count": 60,
   "metadata": {},
   "outputs": [
    {
     "name": "stderr",
     "output_type": "stream",
     "text": [
      "/home/bcwein/anaconda3/envs/forseti/lib/python3.7/site-packages/ipykernel_launcher.py:15: SettingWithCopyWarning: \n",
      "A value is trying to be set on a copy of a slice from a DataFrame.\n",
      "Try using .loc[row_indexer,col_indexer] = value instead\n",
      "\n",
      "See the caveats in the documentation: https://pandas.pydata.org/pandas-docs/stable/user_guide/indexing.html#returning-a-view-versus-a-copy\n",
      "  from ipykernel import kernelapp as app\n"
     ]
    }
   ],
   "source": [
    "scores = pd.read_csv('data/compas-two-yrs-recidivism.csv')\n",
    "features = [\n",
    "    'sex',\n",
    "    'age',\n",
    "    'race',\n",
    "    'priors_count',\n",
    "    'juv_fel_count',\n",
    "    'juv_misd_count',\n",
    "    'juv_other_count',\n",
    "    'c_charge_degree',\n",
    "    'two_year_recid'\n",
    "]\n",
    "\n",
    "dataset = scores[features]\n",
    "dataset['two_year_recid'] = dataset['two_year_recid'].astype('category')"
   ]
  },
  {
   "cell_type": "code",
   "execution_count": 61,
   "metadata": {},
   "outputs": [
    {
     "name": "stderr",
     "output_type": "stream",
     "text": [
      "/home/bcwein/Code/Forseti/forseti/datproc.py:18: SettingWithCopyWarning: \n",
      "A value is trying to be set on a copy of a slice from a DataFrame.\n",
      "Try using .loc[row_indexer,col_indexer] = value instead\n",
      "\n",
      "See the caveats in the documentation: https://pandas.pydata.org/pandas-docs/stable/user_guide/indexing.html#returning-a-view-versus-a-copy\n",
      "  dataframe[obj] = dataframe[obj].astype('category')\n",
      "/home/bcwein/Code/Forseti/forseti/datproc.py:23: SettingWithCopyWarning: \n",
      "A value is trying to be set on a copy of a slice from a DataFrame.\n",
      "Try using .loc[row_indexer,col_indexer] = value instead\n",
      "\n",
      "See the caveats in the documentation: https://pandas.pydata.org/pandas-docs/stable/user_guide/indexing.html#returning-a-view-versus-a-copy\n",
      "  dataframe[num] = pd.cut(dataframe[num], 5, duplicates='drop')\n",
      "/home/bcwein/Code/Forseti/forseti/datproc.py:29: SettingWithCopyWarning: \n",
      "A value is trying to be set on a copy of a slice from a DataFrame.\n",
      "Try using .loc[row_indexer,col_indexer] = value instead\n",
      "\n",
      "See the caveats in the documentation: https://pandas.pydata.org/pandas-docs/stable/user_guide/indexing.html#returning-a-view-versus-a-copy\n",
      "  dataframe[cat] = dataframe[cat].astype(\"category\")\n",
      "/home/bcwein/Code/Forseti/forseti/datproc.py:31: SettingWithCopyWarning: \n",
      "A value is trying to be set on a copy of a slice from a DataFrame.\n",
      "Try using .loc[row_indexer,col_indexer] = value instead\n",
      "\n",
      "See the caveats in the documentation: https://pandas.pydata.org/pandas-docs/stable/user_guide/indexing.html#returning-a-view-versus-a-copy\n",
      "  dataframe[cat] = dataframe[cat].cat.codes\n"
     ]
    }
   ],
   "source": [
    "tmp, _ = translate_categorical(dataset)\n",
    "train = tmp[:6000]\n",
    "label = 'two_year_recid'\n",
    "sensitives = ['sex', 'race']\n",
    "y = tmp[6000:][label]\n",
    "test = tmp[6000:].drop(label, axis=1)"
   ]
  },
  {
   "cell_type": "code",
   "execution_count": 62,
   "metadata": {},
   "outputs": [
    {
     "data": {
      "application/vnd.jupyter.widget-view+json": {
       "model_id": "62736fcb497549448815d4123a01cb0d",
       "version_major": 2,
       "version_minor": 0
      },
      "text/plain": [
       "  0%|          | 0/1000000 [00:00<?, ?it/s]"
      ]
     },
     "metadata": {},
     "output_type": "display_data"
    },
    {
     "data": {
      "application/vnd.jupyter.widget-view+json": {
       "model_id": "e1315ad0ac8f47038fb54653bc37dd57",
       "version_major": 2,
       "version_minor": 0
      },
      "text/plain": [
       "  0%|          | 0/100 [00:00<?, ?it/s]"
      ]
     },
     "metadata": {},
     "output_type": "display_data"
    }
   ],
   "source": [
    "clf = latentLabelClassifier(\n",
    "    train,\n",
    "    sensitives,\n",
    "    label,\n",
    "    atol=0.01\n",
    ")\n",
    "\n",
    "clf.fit()"
   ]
  },
  {
   "cell_type": "markdown",
   "metadata": {},
   "source": [
    "## Predict"
   ]
  },
  {
   "cell_type": "code",
   "execution_count": 63,
   "metadata": {},
   "outputs": [
    {
     "data": {
      "application/vnd.jupyter.widget-view+json": {
       "model_id": "2706b092da8b4dbcbc0fe7c034e30aba",
       "version_major": 2,
       "version_minor": 0
      },
      "text/plain": [
       "  0%|          | 0/114 [00:00<?, ?it/s]"
      ]
     },
     "metadata": {},
     "output_type": "display_data"
    },
    {
     "name": "stderr",
     "output_type": "stream",
     "text": [
      "/home/bcwein/anaconda3/envs/forseti/lib/python3.7/site-packages/pgmpy/factors/discrete/DiscreteFactor.py:472: RuntimeWarning: invalid value encountered in true_divide\n",
      "  phi.values = phi.values / phi.values.sum()\n",
      "/home/bcwein/anaconda3/envs/forseti/lib/python3.7/site-packages/pgmpy/factors/discrete/DiscreteFactor.py:472: RuntimeWarning: invalid value encountered in true_divide\n",
      "  phi.values = phi.values / phi.values.sum()\n"
     ]
    }
   ],
   "source": [
    "test_translate, _ = translate_categorical(test)\n",
    "predict = clf.predict(test_translate)"
   ]
  },
  {
   "cell_type": "code",
   "execution_count": 64,
   "metadata": {},
   "outputs": [
    {
     "name": "stderr",
     "output_type": "stream",
     "text": [
      "/home/bcwein/anaconda3/envs/forseti/lib/python3.7/site-packages/pgmpy/factors/discrete/DiscreteFactor.py:472: RuntimeWarning: invalid value encountered in true_divide\n",
      "  phi.values = phi.values / phi.values.sum()\n"
     ]
    }
   ],
   "source": [
    "predictprob = clf.predict_probability(test_translate)\n",
    "predictprob = predictprob.fillna(0)\n",
    "predict.to_csv('results/pred_compas.csv')\n",
    "predictprob.to_csv('results/pred_compas_probability.csv')"
   ]
  },
  {
   "cell_type": "markdown",
   "metadata": {},
   "source": [
    "## Naive Bayes Compas with sensitive"
   ]
  },
  {
   "cell_type": "code",
   "execution_count": 58,
   "metadata": {},
   "outputs": [
    {
     "data": {
      "application/vnd.jupyter.widget-view+json": {
       "model_id": "22cde240a83945d0af2e64c5ff4c4089",
       "version_major": 2,
       "version_minor": 0
      },
      "text/plain": [
       "  0%|          | 0/114 [00:00<?, ?it/s]"
      ]
     },
     "metadata": {},
     "output_type": "display_data"
    }
   ],
   "source": [
    "tmp_train, codes_train = translate_categorical(train.copy(deep=True))\n",
    "\n",
    "model = NaiveBayes()\n",
    "model.fit(tmp_train, label)\n",
    "\n",
    "y_pred_naive = model.predict(test)\n",
    "y_pred_naive.to_csv('results/pred_compas_NB_sensitive.csv')\n",
    "y_pred_prob_naive = model.predict_probability(test)\n",
    "y_pred_prob_naive.to_csv('results/pred_compas_probability_NB_sensitive.csv')"
   ]
  },
  {
   "cell_type": "markdown",
   "metadata": {},
   "source": [
    "## Naive Bayes Compas Without Sensitive"
   ]
  },
  {
   "cell_type": "code",
   "execution_count": 59,
   "metadata": {},
   "outputs": [
    {
     "data": {
      "application/vnd.jupyter.widget-view+json": {
       "model_id": "b1eebb74eff94bcdb837de56a575051c",
       "version_major": 2,
       "version_minor": 0
      },
      "text/plain": [
       "  0%|          | 0/35 [00:00<?, ?it/s]"
      ]
     },
     "metadata": {},
     "output_type": "display_data"
    }
   ],
   "source": [
    "train = train.drop(sensitives, axis=1)\n",
    "test = test.drop(sensitives, axis=1)\n",
    "\n",
    "model = NaiveBayes()\n",
    "model.fit(train, label)\n",
    "\n",
    "y_pred_naive = model.predict(test)\n",
    "y_pred_naive.to_csv('results/pred_compas_NB.csv')\n",
    "y_pred_prob_naive = model.predict_probability(test)\n",
    "y_pred_prob_naive.to_csv('results/pred_compas_probability_NB.csv')"
   ]
  }
 ],
 "metadata": {
  "interpreter": {
   "hash": "c3d815725cc6a6fa8228024c74f3070b3b15922f57a0d1a0d80cc97f69923cf0"
  },
  "kernelspec": {
   "display_name": "Python 3.7.12 ('forseti')",
   "language": "python",
   "name": "python3"
  },
  "language_info": {
   "codemirror_mode": {
    "name": "ipython",
    "version": 3
   },
   "file_extension": ".py",
   "mimetype": "text/x-python",
   "name": "python",
   "nbconvert_exporter": "python",
   "pygments_lexer": "ipython3",
   "version": "3.7.12"
  },
  "orig_nbformat": 4
 },
 "nbformat": 4,
 "nbformat_minor": 2
}
