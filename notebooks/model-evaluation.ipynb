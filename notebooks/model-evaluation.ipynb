{
 "cells": [
  {
   "cell_type": "markdown",
   "metadata": {},
   "source": [
    "# Model Evaluation\n",
    "\n",
    "This notebook is for running and documenting experiments\n",
    "\n",
    "## latentFairClassifier Evaluation\n",
    "\n",
    "A classifier based on the model described in the paper \n",
    "*Group Fairness by Probabilistic Modeling with Latent Fair Decisions* has been \n",
    "successfully implemented and trained on the adult dataset. It is time to \n",
    "evaluate the model in terms of fairness as well as traditional metrics.\n",
    "\n",
    "### Import"
   ]
  },
  {
   "cell_type": "code",
   "execution_count": 7,
   "metadata": {},
   "outputs": [],
   "source": [
    "import pandas as pd\n",
    "import sys\n",
    "import os\n",
    "from sklearn.metrics import roc_curve\n",
    "import seaborn as sns\n",
    "sns.set_style('darkgrid')\n",
    "pd.set_option('display.float_format', lambda x: '%.5f' % x)\n",
    "\n",
    "module_path = os.path.abspath(os.path.join(\"..\"))\n",
    "if module_path not in sys.path:\n",
    "    sys.path.append(module_path)\n",
    "\n",
    "from forseti.datproc import translate_categorical, extract_sensitive\n",
    "from forseti.fairness import parity_score, fairness_report"
   ]
  },
  {
   "cell_type": "markdown",
   "metadata": {},
   "source": [
    "### Load Dataset and Predictions "
   ]
  },
  {
   "cell_type": "code",
   "execution_count": 8,
   "metadata": {},
   "outputs": [],
   "source": [
    "tmp = pd.read_csv('data/adult.csv')\n",
    "data, codes = translate_categorical(tmp.copy(deep=True))\n",
    "sensitive_attributes = ['race', 'gender']\n",
    "\n",
    "test = data[30000:]\n",
    "\n",
    "sensitive, features = extract_sensitive(test, sensitive_attributes) \n",
    "y = features['income']\n",
    "X = features.drop('income', axis=1)\n",
    "\n",
    "y_pred_fair = pd.read_csv('results/y_pred_label_fair.csv', index_col=0)\n",
    "y_pred_income = pd.read_csv('results/y_pred_label_income.csv', index_col=0)\n",
    "y_pred_probability = pd.read_csv('results/y_pred.csv', index_col=0)\n",
    "y_pred_label_NB_sens = pd.read_csv('results/y_pred_label_naive_bayes_sensitive.csv', index_col=0)\n",
    "y_pred_label_NB_sens.index = y.index\n",
    "y_pred_label_NB = pd.read_csv('results/y_pred_label_naive_bayes.csv', index_col=0)\n",
    "y_pred_label_NB.index = y.index\n",
    "y_pred_prob_NB_sens = pd.read_csv('results/y_pred_probability_naive_bayes_sensitive.csv', index_col=0)\n",
    "y_pred_prob_NB_sens.index = y.index\n",
    "y_pred_prob_NB = pd.read_csv('results/y_pred_probability_naive_bayes.csv', index_col=0)\n",
    "y_pred_prob_NB.index = y.index"
   ]
  },
  {
   "cell_type": "markdown",
   "metadata": {},
   "source": [
    "### Score metric for demographic parity\n",
    "\n",
    "Demographic parity is defined as\n",
    "\n",
    "$$\n",
    "P(\\hat{Y} | S = 0) = P(\\hat{Y} | S = 1)\n",
    "$$\n",
    "\n",
    "Where $\\hat{Y}$ is the predictor and $S$ is the sensitive attribute.\n",
    "\n",
    "This can be generalised to a multiclass case with $K$ classes.\n",
    "\n",
    "$$\n",
    "P(\\hat{Y} | S_i) = P(\\hat{Y} | S_j) \\qquad i, j \\in \\{0, \\dots, K-1\\}\n",
    "$$\n",
    "\n",
    "We want to condense this to a single metric between $0$ and $1$. I.e, when we \n",
    "have likelihood for the different classes of a sensitive attribute in a list of \n",
    "probabilities $L$ like so\n",
    "\n",
    "$$\n",
    "L =\\{ P(\\hat{Y} | S=0), \\dots, P(\\hat{Y} | S=K-1) \\}\n",
    "$$\n",
    "\n",
    "We would want a score of 1 if that list has probabilities like\n",
    "\n",
    "$$\n",
    "L_0 = \\{ 0.333, 0.333, 0.333\\}\n",
    "$$\n",
    "\n",
    "and a score of 0 for\n",
    "\n",
    "$$\n",
    "L_1 = \\{ 1, 0\\}\n",
    "$$\n",
    "\n",
    "and for that, we have worked out the following function $f$\n",
    "\n",
    "$$\n",
    "    f = 1 - 2\\sigma(L)\n",
    "$$\n",
    "\n",
    "where $\\sigma$ is for standard deviation. The example of which is shown below."
   ]
  },
  {
   "cell_type": "code",
   "execution_count": 11,
   "metadata": {},
   "outputs": [
    {
     "data": {
      "image/png": "[encoded data removed]",
      "text/plain": [
       "<Figure size 432x288 with 1 Axes>"
      ]
     },
     "metadata": {},
     "output_type": "display_data"
    }
   ],
   "source": [
    "import numpy as np\n",
    "import matplotlib.pyplot as plt\n",
    "\n",
    "x = np.linspace(0, 0.5, 100)\n",
    "scores = []\n",
    "\n",
    "for prob in x:\n",
    "    scorelist = [0.5 + prob, 0.5 - prob]\n",
    "    scores.append(parity_score(scorelist))\n",
    "\n",
    "plt.plot(x, scores);\n",
    "plt.title('Scoring function vs difference in probability');\n",
    "plt.xlabel('$x$');\n",
    "plt.ylabel('$f([0.5+x, 0.5-x])$');\n",
    "plt.savefig('figures/Parity_metric.png', dpi=200)\n",
    "plt.show()"
   ]
  },
  {
   "cell_type": "code",
   "execution_count": 10,
   "metadata": {},
   "outputs": [
    {
     "name": "stderr",
     "output_type": "stream",
     "text": [
      "C:\\Users\\bcwei\\AppData\\Local\\Temp/ipykernel_2120/252768235.py:3: FutureWarning: The frame.append method is deprecated and will be removed from pandas in a future version. Use pandas.concat instead.\n",
      "  fairnessDF = fairnessDF.append(fairness_report(y, y_pred_fair, sensitive, 'FairBN'), ignore_index=True);\n",
      "C:\\Users\\bcwei\\AppData\\Local\\Temp/ipykernel_2120/252768235.py:4: FutureWarning: The frame.append method is deprecated and will be removed from pandas in a future version. Use pandas.concat instead.\n",
      "  fairnessDF = fairnessDF.append(fairness_report(y, y_pred_income, sensitive, 'IncomeBN'), ignore_index=True);\n",
      "C:\\Users\\bcwei\\AppData\\Local\\Temp/ipykernel_2120/252768235.py:5: FutureWarning: The frame.append method is deprecated and will be removed from pandas in a future version. Use pandas.concat instead.\n",
      "  fairnessDF = fairnessDF.append(fairness_report(y, y_pred_label_NB_sens, sensitive, 'NBSens'), ignore_index=True);\n",
      "C:\\Users\\bcwei\\AppData\\Local\\Temp/ipykernel_2120/252768235.py:6: FutureWarning: The frame.append method is deprecated and will be removed from pandas in a future version. Use pandas.concat instead.\n",
      "  fairnessDF = fairnessDF.append(fairness_report(y, y_pred_label_NB, sensitive, 'NB'), ignore_index=True);\n",
      "C:\\Users\\bcwei\\AppData\\Local\\Temp/ipykernel_2120/252768235.py:7: FutureWarning: The frame.append method is deprecated and will be removed from pandas in a future version. Use pandas.concat instead.\n",
      "  fairnessDF = fairnessDF.append(fairness_report(y, y, sensitive, 'Dataset'), ignore_index=True);\n"
     ]
    },
    {
     "data": {
      "text/html": [
       "<div>\n",
       "<style scoped>\n",
       "    .dataframe tbody tr th:only-of-type {\n",
       "        vertical-align: middle;\n",
       "    }\n",
       "\n",
       "    .dataframe tbody tr th {\n",
       "        vertical-align: top;\n",
       "    }\n",
       "\n",
       "    .dataframe thead th {\n",
       "        text-align: right;\n",
       "    }\n",
       "</style>\n",
       "<table border=\"1\" class=\"dataframe\">\n",
       "  <thead>\n",
       "    <tr style=\"text-align: right;\">\n",
       "      <th></th>\n",
       "      <th>Accuracy</th>\n",
       "      <th>Balanced Accuracy</th>\n",
       "      <th>F1 Score</th>\n",
       "      <th>Specificity</th>\n",
       "      <th>Parity Score race</th>\n",
       "      <th>Parity Score gender</th>\n",
       "      <th>Intersectional Parity Score</th>\n",
       "      <th>Model</th>\n",
       "    </tr>\n",
       "  </thead>\n",
       "  <tbody>\n",
       "    <tr>\n",
       "      <th>0</th>\n",
       "      <td>0.82443</td>\n",
       "      <td>0.75570</td>\n",
       "      <td>0.63171</td>\n",
       "      <td>0.88883</td>\n",
       "      <td>0.88455</td>\n",
       "      <td>0.94341</td>\n",
       "      <td>0.86846</td>\n",
       "      <td>FairBN</td>\n",
       "    </tr>\n",
       "    <tr>\n",
       "      <th>1</th>\n",
       "      <td>0.83447</td>\n",
       "      <td>0.72144</td>\n",
       "      <td>0.59488</td>\n",
       "      <td>0.94036</td>\n",
       "      <td>0.85123</td>\n",
       "      <td>0.75052</td>\n",
       "      <td>NaN</td>\n",
       "      <td>IncomeBN</td>\n",
       "    </tr>\n",
       "    <tr>\n",
       "      <th>2</th>\n",
       "      <td>0.80655</td>\n",
       "      <td>0.79307</td>\n",
       "      <td>0.65726</td>\n",
       "      <td>0.81918</td>\n",
       "      <td>0.77449</td>\n",
       "      <td>0.60527</td>\n",
       "      <td>0.67633</td>\n",
       "      <td>NBSens</td>\n",
       "    </tr>\n",
       "    <tr>\n",
       "      <th>3</th>\n",
       "      <td>0.81499</td>\n",
       "      <td>0.79930</td>\n",
       "      <td>0.66781</td>\n",
       "      <td>0.82968</td>\n",
       "      <td>0.81574</td>\n",
       "      <td>0.66148</td>\n",
       "      <td>0.71069</td>\n",
       "      <td>NB</td>\n",
       "    </tr>\n",
       "    <tr>\n",
       "      <th>4</th>\n",
       "      <td>1.00000</td>\n",
       "      <td>1.00000</td>\n",
       "      <td>1.00000</td>\n",
       "      <td>1.00000</td>\n",
       "      <td>0.84795</td>\n",
       "      <td>0.80171</td>\n",
       "      <td>0.80854</td>\n",
       "      <td>Dataset</td>\n",
       "    </tr>\n",
       "  </tbody>\n",
       "</table>\n",
       "</div>"
      ],
      "text/plain": [
       "   Accuracy  Balanced Accuracy  F1 Score  Specificity  Parity Score race  \\\n",
       "0   0.82443            0.75570   0.63171      0.88883            0.88455   \n",
       "1   0.83447            0.72144   0.59488      0.94036            0.85123   \n",
       "2   0.80655            0.79307   0.65726      0.81918            0.77449   \n",
       "3   0.81499            0.79930   0.66781      0.82968            0.81574   \n",
       "4   1.00000            1.00000   1.00000      1.00000            0.84795   \n",
       "\n",
       "   Parity Score gender  Intersectional Parity Score     Model  \n",
       "0              0.94341                      0.86846    FairBN  \n",
       "1              0.75052                          NaN  IncomeBN  \n",
       "2              0.60527                      0.67633    NBSens  \n",
       "3              0.66148                      0.71069        NB  \n",
       "4              0.80171                      0.80854   Dataset  "
      ]
     },
     "execution_count": 10,
     "metadata": {},
     "output_type": "execute_result"
    }
   ],
   "source": [
    "fairnessDF = pd.DataFrame()\n",
    "\n",
    "fairnessDF = fairnessDF.append(fairness_report(y, y_pred_fair, sensitive, 'FairBN'), ignore_index=True);\n",
    "fairnessDF = fairnessDF.append(fairness_report(y, y_pred_income, sensitive, 'IncomeBN'), ignore_index=True);\n",
    "fairnessDF = fairnessDF.append(fairness_report(y, y_pred_label_NB_sens, sensitive, 'NBSens'), ignore_index=True);\n",
    "fairnessDF = fairnessDF.append(fairness_report(y, y_pred_label_NB, sensitive, 'NB'), ignore_index=True);\n",
    "fairnessDF = fairnessDF.append(fairness_report(y, y, sensitive, 'Dataset'), ignore_index=True);\n",
    "fairnessDF"
   ]
  },
  {
   "cell_type": "code",
   "execution_count": 6,
   "metadata": {},
   "outputs": [
    {
     "data": {
      "image/png": "[encoded data removed]",
      "text/plain": [
       "<Figure size 432x288 with 1 Axes>"
      ]
     },
     "metadata": {},
     "output_type": "display_data"
    }
   ],
   "source": [
    "fpr_fair, tpr_fair, threshold = roc_curve(y,  y_pred_probability['fair_0'])\n",
    "fpr_income, tpr_income, _ = roc_curve(y,  y_pred_probability['income_1'])\n",
    "fpr_NBsens, tpr_NBsens, _ = roc_curve(y,  y_pred_prob_NB_sens['income_1'])\n",
    "fpr_NB, tpr_NB, _ = roc_curve(y,  y_pred_prob_NB['income_1'])\n",
    "\n",
    "#create ROC curve\n",
    "plt.plot(fpr_fair, tpr_fair, label='fairBN', linewidth=1)\n",
    "plt.plot(fpr_income, tpr_income, label='incomeBN', linewidth=1)\n",
    "plt.plot(fpr_NBsens, tpr_NBsens, label='NBSens', linewidth=1)\n",
    "plt.plot(fpr_NB, tpr_NB, label='NB', linewidth=1)\n",
    "plt.ylabel('True Positive Rate')\n",
    "plt.xlabel('False Positive Rate')\n",
    "plt.axline((1, 1), slope=1, ls=\"--\")\n",
    "plt.legend()\n",
    "plt.savefig('figures/baseline_roc.png', dpi=200)\n",
    "plt.show()"
   ]
  }
 ],
 "metadata": {
  "interpreter": {
   "hash": "dd29c087e73fa7375bf1e02101747c62c69b10311acdbd79d0623f1fb832c9d1"
  },
  "kernelspec": {
   "display_name": "Python 3.8.12 ('forseti')",
   "language": "python",
   "name": "python3"
  },
  "language_info": {
   "codemirror_mode": {
    "name": "ipython",
    "version": 3
   },
   "file_extension": ".py",
   "mimetype": "text/x-python",
   "name": "python",
   "nbconvert_exporter": "python",
   "pygments_lexer": "ipython3",
   "version": "3.8.12"
  },
  "orig_nbformat": 4
 },
 "nbformat": 4,
 "nbformat_minor": 2
}
