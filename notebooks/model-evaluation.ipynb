{
 "cells": [
  {
   "cell_type": "markdown",
   "metadata": {},
   "source": [
    "# Model Evaluation\n",
    "\n",
    "This notebook is for running and documenting experiments\n",
    "\n",
    "## latentFairClassifier Evaluation\n",
    "\n",
    "A classifier based on the model described in the paper \n",
    "*Group Fairness by Probabilistic Modeling with Latent Fair Decisions* has been \n",
    "successfully implemented and trained on the adult dataset. It is time to \n",
    "evaluate the model in terms of fairness as well as traditional metrics.\n",
    "\n",
    "### Import"
   ]
  },
  {
   "cell_type": "code",
   "execution_count": 70,
   "metadata": {},
   "outputs": [],
   "source": [
    "import pandas as pd\n",
    "import sys\n",
    "import os\n",
    "from sklearn.metrics import roc_curve, roc_auc_score\n",
    "import seaborn as sns\n",
    "sns.set_style('darkgrid')\n",
    "pd.set_option('display.float_format', lambda x: '%.5f' % x)\n",
    "\n",
    "module_path = os.path.abspath(os.path.join(\"..\"))\n",
    "if module_path not in sys.path:\n",
    "    sys.path.append(module_path)\n",
    "\n",
    "from forseti.datproc import translate_categorical, extract_sensitive\n",
    "from forseti.fairness import parity_score, fairness_report, sns_auc_score"
   ]
  },
  {
   "cell_type": "markdown",
   "metadata": {},
   "source": [
    "### Adult Dataset"
   ]
  },
  {
   "cell_type": "code",
   "execution_count": 71,
   "metadata": {},
   "outputs": [],
   "source": [
    "tmp = pd.read_csv('data/adult.csv')\n",
    "data, codes = translate_categorical(tmp.copy(deep=True))\n",
    "sensitive_attributes = ['race', 'gender']\n",
    "\n",
    "test = data[30000:]\n",
    "\n",
    "sensitive, features = extract_sensitive(test, sensitive_attributes) \n",
    "y = features['income']\n",
    "X = features.drop('income', axis=1)\n",
    "\n",
    "y_pred_fair = pd.read_csv('results/y_pred_label_fair.csv', index_col=0)\n",
    "y_pred_income = pd.read_csv('results/y_pred_label_income.csv', index_col=0)\n",
    "y_pred_probability = pd.read_csv('results/y_pred.csv', index_col=0)\n",
    "y_pred_label_NB_sens = pd.read_csv('results/y_pred_label_naive_bayes_sensitive.csv', index_col=0)\n",
    "y_pred_label_NB_sens.index = y.index\n",
    "y_pred_label_NB = pd.read_csv('results/y_pred_label_naive_bayes.csv', index_col=0)\n",
    "y_pred_label_NB.index = y.index\n",
    "y_pred_prob_NB_sens = pd.read_csv('results/y_pred_probability_naive_bayes_sensitive.csv', index_col=0)\n",
    "y_pred_prob_NB_sens.index = y.index\n",
    "y_pred_prob_NB = pd.read_csv('results/y_pred_probability_naive_bayes.csv', index_col=0)\n",
    "y_pred_prob_NB.index = y.index"
   ]
  },
  {
   "cell_type": "markdown",
   "metadata": {},
   "source": [
    "### Score metric for demographic parity\n",
    "\n",
    "Demographic parity is defined as\n",
    "\n",
    "$$\n",
    "P(\\hat{Y} | S = 0) = P(\\hat{Y} | S = 1)\n",
    "$$\n",
    "\n",
    "Where $\\hat{Y}$ is the predictor and $S$ is the sensitive attribute.\n",
    "\n",
    "This can be generalised to a multiclass case with $K$ classes.\n",
    "\n",
    "$$\n",
    "P(\\hat{Y} | S_i) = P(\\hat{Y} | S_j) \\qquad i, j \\in \\{0, \\dots, K-1\\}\n",
    "$$\n",
    "\n",
    "We want to condense this to a single metric between $0$ and $1$. I.e, when we \n",
    "have likelihood for the different classes of a sensitive attribute in a list of \n",
    "probabilities $L$ like so\n",
    "\n",
    "$$\n",
    "L =\\{ P(\\hat{Y} | S=0), \\dots, P(\\hat{Y} | S=K-1) \\}\n",
    "$$\n",
    "\n",
    "We would want a score of 1 if that list has probabilities like\n",
    "\n",
    "$$\n",
    "L_0 = \\{ 0.333, 0.333, 0.333\\}\n",
    "$$\n",
    "\n",
    "and a score of 0 for\n",
    "\n",
    "$$\n",
    "L_1 = \\{ 1, 0\\}\n",
    "$$\n",
    "\n",
    "and for that, we have worked out the following function $f$\n",
    "\n",
    "$$\n",
    "    f = 1 - 2\\sigma(L)\n",
    "$$\n",
    "\n",
    "where $\\sigma$ is for standard deviation. The example of which is shown below."
   ]
  },
  {
   "cell_type": "code",
   "execution_count": 72,
   "metadata": {},
   "outputs": [
    {
     "data": {
      "image/png": "[encoded data removed]",
      "text/plain": [
       "<Figure size 432x288 with 1 Axes>"
      ]
     },
     "metadata": {},
     "output_type": "display_data"
    }
   ],
   "source": [
    "import numpy as np\n",
    "import matplotlib.pyplot as plt\n",
    "\n",
    "x = np.linspace(0, 0.5, 100)\n",
    "scores = []\n",
    "\n",
    "for prob in x:\n",
    "    scorelist = [0.5 + prob, 0.5 - prob]\n",
    "    scores.append(parity_score(scorelist))\n",
    "\n",
    "plt.plot(x, scores);\n",
    "plt.title('Scoring function vs difference in probability');\n",
    "plt.xlabel('$x$');\n",
    "plt.ylabel('$f([0.5+x, 0.5-x])$');\n",
    "plt.savefig('figures/Parity_metric.png', dpi=200)\n",
    "plt.show()"
   ]
  },
  {
   "cell_type": "code",
   "execution_count": 73,
   "metadata": {},
   "outputs": [
    {
     "data": {
      "text/html": [
       "<div>\n",
       "<style scoped>\n",
       "    .dataframe tbody tr th:only-of-type {\n",
       "        vertical-align: middle;\n",
       "    }\n",
       "\n",
       "    .dataframe tbody tr th {\n",
       "        vertical-align: top;\n",
       "    }\n",
       "\n",
       "    .dataframe thead th {\n",
       "        text-align: right;\n",
       "    }\n",
       "</style>\n",
       "<table border=\"1\" class=\"dataframe\">\n",
       "  <thead>\n",
       "    <tr style=\"text-align: right;\">\n",
       "      <th></th>\n",
       "      <th>Accuracy</th>\n",
       "      <th>Balanced Accuracy</th>\n",
       "      <th>F1 Score</th>\n",
       "      <th>Specificity</th>\n",
       "      <th>Parity Score race</th>\n",
       "      <th>Parity Score gender</th>\n",
       "      <th>Intersectional Parity Score</th>\n",
       "      <th>Model</th>\n",
       "    </tr>\n",
       "  </thead>\n",
       "  <tbody>\n",
       "    <tr>\n",
       "      <th>0</th>\n",
       "      <td>0.82000</td>\n",
       "      <td>0.76000</td>\n",
       "      <td>0.63000</td>\n",
       "      <td>0.89000</td>\n",
       "      <td>0.88000</td>\n",
       "      <td>0.94000</td>\n",
       "      <td>0.87000</td>\n",
       "      <td>FairBN</td>\n",
       "    </tr>\n",
       "    <tr>\n",
       "      <th>1</th>\n",
       "      <td>0.83000</td>\n",
       "      <td>0.72000</td>\n",
       "      <td>0.59000</td>\n",
       "      <td>0.94000</td>\n",
       "      <td>0.85000</td>\n",
       "      <td>0.75000</td>\n",
       "      <td>0.78000</td>\n",
       "      <td>IncomeBN</td>\n",
       "    </tr>\n",
       "    <tr>\n",
       "      <th>2</th>\n",
       "      <td>0.81000</td>\n",
       "      <td>0.79000</td>\n",
       "      <td>0.66000</td>\n",
       "      <td>0.82000</td>\n",
       "      <td>0.77000</td>\n",
       "      <td>0.61000</td>\n",
       "      <td>0.68000</td>\n",
       "      <td>NBSens</td>\n",
       "    </tr>\n",
       "    <tr>\n",
       "      <th>3</th>\n",
       "      <td>0.81000</td>\n",
       "      <td>0.80000</td>\n",
       "      <td>0.67000</td>\n",
       "      <td>0.83000</td>\n",
       "      <td>0.82000</td>\n",
       "      <td>0.66000</td>\n",
       "      <td>0.71000</td>\n",
       "      <td>NB</td>\n",
       "    </tr>\n",
       "    <tr>\n",
       "      <th>4</th>\n",
       "      <td>1.00000</td>\n",
       "      <td>1.00000</td>\n",
       "      <td>1.00000</td>\n",
       "      <td>1.00000</td>\n",
       "      <td>0.85000</td>\n",
       "      <td>0.80000</td>\n",
       "      <td>0.81000</td>\n",
       "      <td>Dataset</td>\n",
       "    </tr>\n",
       "  </tbody>\n",
       "</table>\n",
       "</div>"
      ],
      "text/plain": [
       "   Accuracy  Balanced Accuracy  F1 Score  Specificity  Parity Score race  \\\n",
       "0   0.82000            0.76000   0.63000      0.89000            0.88000   \n",
       "1   0.83000            0.72000   0.59000      0.94000            0.85000   \n",
       "2   0.81000            0.79000   0.66000      0.82000            0.77000   \n",
       "3   0.81000            0.80000   0.67000      0.83000            0.82000   \n",
       "4   1.00000            1.00000   1.00000      1.00000            0.85000   \n",
       "\n",
       "   Parity Score gender  Intersectional Parity Score     Model  \n",
       "0              0.94000                      0.87000    FairBN  \n",
       "1              0.75000                      0.78000  IncomeBN  \n",
       "2              0.61000                      0.68000    NBSens  \n",
       "3              0.66000                      0.71000        NB  \n",
       "4              0.80000                      0.81000   Dataset  "
      ]
     },
     "execution_count": 73,
     "metadata": {},
     "output_type": "execute_result"
    }
   ],
   "source": [
    "fairnessDF = pd.DataFrame()\n",
    "fairnessDF = fairnessDF.append(fairness_report(y, y_pred_fair, sensitive, 'FairBN'), ignore_index=True);\n",
    "fairnessDF = fairnessDF.append(fairness_report(y, y_pred_income, sensitive, 'IncomeBN'), ignore_index=True);\n",
    "fairnessDF = fairnessDF.append(fairness_report(y, y_pred_label_NB_sens, sensitive, 'NBSens'), ignore_index=True);\n",
    "fairnessDF = fairnessDF.append(fairness_report(y, y_pred_label_NB, sensitive, 'NB'), ignore_index=True);\n",
    "fairnessDF = fairnessDF.append(fairness_report(y, y, sensitive, 'Dataset'), ignore_index=True);\n",
    "fairnessDF.round(2)"
   ]
  },
  {
   "cell_type": "code",
   "execution_count": 74,
   "metadata": {},
   "outputs": [
    {
     "data": {
      "image/png": "[encoded data removed]",
      "text/plain": [
       "<Figure size 432x288 with 1 Axes>"
      ]
     },
     "metadata": {},
     "output_type": "display_data"
    }
   ],
   "source": [
    "fpr_fair, tpr_fair, threshold = roc_curve(y,  y_pred_probability['fair_0'])\n",
    "fpr_income, tpr_income, _ = roc_curve(y,  y_pred_probability['income_1'])\n",
    "fpr_NBsens, tpr_NBsens, _ = roc_curve(y,  y_pred_prob_NB_sens['income_1'])\n",
    "fpr_NB, tpr_NB, _ = roc_curve(y,  y_pred_prob_NB['income_1'])\n",
    "\n",
    "#create ROC curve\n",
    "plt.plot(fpr_fair, tpr_fair, label='fairBN', linewidth=1)\n",
    "plt.plot(fpr_income, tpr_income, label='incomeBN', linewidth=1)\n",
    "plt.plot(fpr_NBsens, tpr_NBsens, label='NBSens', linewidth=1)\n",
    "plt.plot(fpr_NB, tpr_NB, label='NB', linewidth=1)\n",
    "plt.ylabel('True Positive Rate')\n",
    "plt.xlabel('False Positive Rate')\n",
    "plt.axline((1, 1), slope=1, ls=\"--\")\n",
    "plt.legend()\n",
    "plt.savefig('figures/adult_baseline_roc.png', dpi=200)\n",
    "plt.show()"
   ]
  },
  {
   "cell_type": "markdown",
   "metadata": {},
   "source": [
    "### AUC Score Label"
   ]
  },
  {
   "cell_type": "code",
   "execution_count": 75,
   "metadata": {},
   "outputs": [
    {
     "data": {
      "text/plain": [
       "0.8614517131386523"
      ]
     },
     "execution_count": 75,
     "metadata": {},
     "output_type": "execute_result"
    }
   ],
   "source": [
    "roc_auc_score(y, y_pred_probability['fair_0'])"
   ]
  },
  {
   "cell_type": "markdown",
   "metadata": {},
   "source": [
    "### AUC Score Sensitive"
   ]
  },
  {
   "cell_type": "code",
   "execution_count": 76,
   "metadata": {},
   "outputs": [
    {
     "data": {
      "text/plain": [
       "0.5696768686163788"
      ]
     },
     "execution_count": 76,
     "metadata": {},
     "output_type": "execute_result"
    }
   ],
   "source": [
    "sns_auc_score(sensitive['gender'], y_pred_probability['fair_0'])"
   ]
  },
  {
   "cell_type": "markdown",
   "metadata": {},
   "source": [
    "### Compas Dataset"
   ]
  },
  {
   "cell_type": "code",
   "execution_count": 77,
   "metadata": {},
   "outputs": [
    {
     "name": "stderr",
     "output_type": "stream",
     "text": [
      "/home/bcwein/anaconda3/envs/forseti/lib/python3.7/site-packages/ipykernel_launcher.py:16: SettingWithCopyWarning: \n",
      "A value is trying to be set on a copy of a slice from a DataFrame.\n",
      "Try using .loc[row_indexer,col_indexer] = value instead\n",
      "\n",
      "See the caveats in the documentation: https://pandas.pydata.org/pandas-docs/stable/user_guide/indexing.html#returning-a-view-versus-a-copy\n",
      "  app.launch_new_instance()\n"
     ]
    }
   ],
   "source": [
    "scores = pd.read_csv('data/compas-two-yrs-recidivism.csv')\n",
    "features = [\n",
    "    'sex',\n",
    "    'age',\n",
    "    'race',\n",
    "    'priors_count',\n",
    "    'juv_fel_count',\n",
    "    'juv_misd_count',\n",
    "    'juv_other_count',\n",
    "    'c_charge_degree',\n",
    "    'two_year_recid'\n",
    "]\n",
    "\n",
    "\n",
    "tmp = scores[features]\n",
    "tmp['two_year_recid'] = tmp['two_year_recid'].astype('category')\n",
    "\n",
    "data, codes = translate_categorical(tmp.copy(deep=True))\n",
    "sensitive_attributes = ['sex', 'race']\n",
    "\n",
    "test = data[6000:].reset_index(drop=True)\n",
    "sensitive, features = extract_sensitive(test, sensitive_attributes) \n",
    "\n",
    "y = features['two_year_recid']\n",
    "X = features.drop('two_year_recid', axis=1)\n",
    "\n",
    "y_compas_pred = pd.read_csv('results/pred_compas.csv', index_col=0)\n",
    "y_compas_pred_probability = pd.read_csv('results/pred_compas_probability.csv', index_col=0)\n",
    "y_compas_pred_NB_sensitive = pd.read_csv('results/pred_compas_NB_sensitive.csv', index_col=0)\n",
    "y_compas_pred_probability_NB_sensitive = pd.read_csv('results/pred_compas_probability_NB_sensitive.csv', index_col=0)\n",
    "y_compas_pred_NB = pd.read_csv('results/pred_compas_NB.csv', index_col=0)\n",
    "y_compas_pred_probability_NB = pd.read_csv('results/pred_compas_probability_NB.csv', index_col=0)"
   ]
  },
  {
   "cell_type": "code",
   "execution_count": 78,
   "metadata": {},
   "outputs": [
    {
     "data": {
      "text/html": [
       "<div>\n",
       "<style scoped>\n",
       "    .dataframe tbody tr th:only-of-type {\n",
       "        vertical-align: middle;\n",
       "    }\n",
       "\n",
       "    .dataframe tbody tr th {\n",
       "        vertical-align: top;\n",
       "    }\n",
       "\n",
       "    .dataframe thead th {\n",
       "        text-align: right;\n",
       "    }\n",
       "</style>\n",
       "<table border=\"1\" class=\"dataframe\">\n",
       "  <thead>\n",
       "    <tr style=\"text-align: right;\">\n",
       "      <th></th>\n",
       "      <th>Accuracy</th>\n",
       "      <th>Balanced Accuracy</th>\n",
       "      <th>F1 Score</th>\n",
       "      <th>Specificity</th>\n",
       "      <th>Parity Score sex</th>\n",
       "      <th>Parity Score race</th>\n",
       "      <th>Intersectional Parity Score</th>\n",
       "      <th>Model</th>\n",
       "    </tr>\n",
       "  </thead>\n",
       "  <tbody>\n",
       "    <tr>\n",
       "      <th>0</th>\n",
       "      <td>0.60000</td>\n",
       "      <td>0.56000</td>\n",
       "      <td>0.28000</td>\n",
       "      <td>0.96000</td>\n",
       "      <td>0.94000</td>\n",
       "      <td>0.90000</td>\n",
       "      <td>0.91000</td>\n",
       "      <td>CompasFairBN</td>\n",
       "    </tr>\n",
       "    <tr>\n",
       "      <th>1</th>\n",
       "      <td>0.60000</td>\n",
       "      <td>0.57000</td>\n",
       "      <td>0.28000</td>\n",
       "      <td>0.96000</td>\n",
       "      <td>0.95000</td>\n",
       "      <td>0.66000</td>\n",
       "      <td>0.45000</td>\n",
       "      <td>CompasLabelBN</td>\n",
       "    </tr>\n",
       "    <tr>\n",
       "      <th>2</th>\n",
       "      <td>0.64000</td>\n",
       "      <td>0.62000</td>\n",
       "      <td>0.52000</td>\n",
       "      <td>0.81000</td>\n",
       "      <td>0.70000</td>\n",
       "      <td>0.56000</td>\n",
       "      <td>0.38000</td>\n",
       "      <td>NBSensitive</td>\n",
       "    </tr>\n",
       "    <tr>\n",
       "      <th>3</th>\n",
       "      <td>0.64000</td>\n",
       "      <td>0.64000</td>\n",
       "      <td>0.61000</td>\n",
       "      <td>0.64000</td>\n",
       "      <td>0.91000</td>\n",
       "      <td>0.54000</td>\n",
       "      <td>0.49000</td>\n",
       "      <td>NB</td>\n",
       "    </tr>\n",
       "    <tr>\n",
       "      <th>4</th>\n",
       "      <td>1.00000</td>\n",
       "      <td>1.00000</td>\n",
       "      <td>1.00000</td>\n",
       "      <td>1.00000</td>\n",
       "      <td>0.94000</td>\n",
       "      <td>0.54000</td>\n",
       "      <td>0.50000</td>\n",
       "      <td>Dataset</td>\n",
       "    </tr>\n",
       "  </tbody>\n",
       "</table>\n",
       "</div>"
      ],
      "text/plain": [
       "   Accuracy  Balanced Accuracy  F1 Score  Specificity  Parity Score sex  \\\n",
       "0   0.60000            0.56000   0.28000      0.96000           0.94000   \n",
       "1   0.60000            0.57000   0.28000      0.96000           0.95000   \n",
       "2   0.64000            0.62000   0.52000      0.81000           0.70000   \n",
       "3   0.64000            0.64000   0.61000      0.64000           0.91000   \n",
       "4   1.00000            1.00000   1.00000      1.00000           0.94000   \n",
       "\n",
       "   Parity Score race  Intersectional Parity Score          Model  \n",
       "0            0.90000                      0.91000   CompasFairBN  \n",
       "1            0.66000                      0.45000  CompasLabelBN  \n",
       "2            0.56000                      0.38000    NBSensitive  \n",
       "3            0.54000                      0.49000             NB  \n",
       "4            0.54000                      0.50000        Dataset  "
      ]
     },
     "execution_count": 78,
     "metadata": {},
     "output_type": "execute_result"
    }
   ],
   "source": [
    "fairnessDF = pd.DataFrame()\n",
    "\n",
    "fairnessDF = fairnessDF.append(fairness_report(y, y_compas_pred['fair'], sensitive, 'CompasFairBN'), ignore_index=True);\n",
    "fairnessDF = fairnessDF.append(fairness_report(y, y_compas_pred['two_year_recid'], sensitive, 'CompasLabelBN'), ignore_index=True);\n",
    "fairnessDF = fairnessDF.append(fairness_report(y, y_compas_pred_NB_sensitive['two_year_recid'], sensitive, 'NBSensitive'), ignore_index=True);\n",
    "fairnessDF = fairnessDF.append(fairness_report(y, y_compas_pred_NB['two_year_recid'], sensitive, 'NB'), ignore_index=True);\n",
    "fairnessDF = fairnessDF.append(fairness_report(y, y, sensitive, 'Dataset'), ignore_index=True);\n",
    "fairnessDF.round(2)"
   ]
  },
  {
   "cell_type": "code",
   "execution_count": 79,
   "metadata": {},
   "outputs": [
    {
     "data": {
      "image/png": "[encoded data removed]",
      "text/plain": [
       "<Figure size 432x288 with 1 Axes>"
      ]
     },
     "metadata": {},
     "output_type": "display_data"
    }
   ],
   "source": [
    "fpr_fair, tpr_fair, threshold = roc_curve(y,  y_compas_pred_probability['fair_1'])\n",
    "fpr_income, tpr_income, _ = roc_curve(y,  y_compas_pred_probability['two_year_recid_1'])\n",
    "fpr_nbsens, tpr_nbsens, _ = roc_curve(y,  y_compas_pred_probability_NB_sensitive['two_year_recid_1'])\n",
    "fpr_nb, tpr_nb, _ = roc_curve(y,  y_compas_pred_probability_NB['two_year_recid_1'])\n",
    "\n",
    "#create ROC curve\n",
    "plt.close()\n",
    "plt.plot(fpr_fair, tpr_fair, label='CompasFairBN', linewidth=1)\n",
    "plt.plot(fpr_income, tpr_income, label='CompasLabelBN', linewidth=1)\n",
    "plt.plot(fpr_nbsens, tpr_nbsens, label='NBSens', linewidth=1)\n",
    "plt.plot(fpr_nb, tpr_nb, label='NB', linewidth=1)\n",
    "plt.ylabel('True Positive Rate')\n",
    "plt.xlabel('False Positive Rate')\n",
    "plt.axline((1, 1), slope=1, ls=\"--\")\n",
    "plt.legend()\n",
    "plt.savefig('figures/compas_baseline_roc.png', dpi=200)\n",
    "plt.show()"
   ]
  },
  {
   "cell_type": "markdown",
   "metadata": {},
   "source": [
    "### AUC score label"
   ]
  },
  {
   "cell_type": "code",
   "execution_count": 80,
   "metadata": {},
   "outputs": [
    {
     "data": {
      "text/plain": [
       "0.6343219956879238"
      ]
     },
     "execution_count": 80,
     "metadata": {},
     "output_type": "execute_result"
    }
   ],
   "source": [
    "roc_auc_score(y, y_compas_pred_probability['fair_1'])"
   ]
  },
  {
   "cell_type": "markdown",
   "metadata": {},
   "source": [
    "### AUC Score Sensitive"
   ]
  },
  {
   "cell_type": "code",
   "execution_count": 81,
   "metadata": {},
   "outputs": [
    {
     "data": {
      "text/plain": [
       "0.5623917773399745"
      ]
     },
     "execution_count": 81,
     "metadata": {},
     "output_type": "execute_result"
    }
   ],
   "source": [
    "sns_auc_score(sensitive['sex'], y_compas_pred_probability['fair_0'])"
   ]
  },
  {
   "cell_type": "markdown",
   "metadata": {},
   "source": [
    "# Fair Tree Algorithm\n",
    "\n",
    "## Adult Dataset"
   ]
  },
  {
   "cell_type": "code",
   "execution_count": 82,
   "metadata": {},
   "outputs": [],
   "source": [
    "tmp = pd.read_csv('data/adult.csv')\n",
    "data, codes = translate_categorical(tmp.copy(deep=True))\n",
    "sensitive_attributes = ['race', 'gender']\n",
    "\n",
    "test = data[30000:]\n",
    "\n",
    "sensitive, features = extract_sensitive(test, sensitive_attributes) \n",
    "y = features['income']\n",
    "X = features.drop('income', axis=1)\n",
    "\n",
    "pred_adult_FRFC03 = pd.read_csv('results/pred_adult_FRFC_0.3.csv', index_col=0)\n",
    "pred_adult_FRFC05 = pd.read_csv('results/pred_adult_FRFC_0.5.csv', index_col=0)\n",
    "pred_adult_FRFC07 = pd.read_csv('results/pred_adult_FRFC_0.7.csv', index_col=0)\n",
    "pred_adult_prob_FRFC03 = pd.read_csv('results/pred_adult_prob_FRFC_0.3.csv', index_col=0)\n",
    "pred_adult_prob_FRFC05 = pd.read_csv('results/pred_adult_prob_FRFC_0.5.csv', index_col=0)\n",
    "pred_adult_prob_FRFC07 = pd.read_csv('results/pred_adult_prob_FRFC_0.7.csv', index_col=0)"
   ]
  },
  {
   "cell_type": "markdown",
   "metadata": {},
   "source": [
    "### Fairness Report"
   ]
  },
  {
   "cell_type": "code",
   "execution_count": 83,
   "metadata": {},
   "outputs": [
    {
     "data": {
      "text/html": [
       "<div>\n",
       "<style scoped>\n",
       "    .dataframe tbody tr th:only-of-type {\n",
       "        vertical-align: middle;\n",
       "    }\n",
       "\n",
       "    .dataframe tbody tr th {\n",
       "        vertical-align: top;\n",
       "    }\n",
       "\n",
       "    .dataframe thead th {\n",
       "        text-align: right;\n",
       "    }\n",
       "</style>\n",
       "<table border=\"1\" class=\"dataframe\">\n",
       "  <thead>\n",
       "    <tr style=\"text-align: right;\">\n",
       "      <th></th>\n",
       "      <th>Accuracy</th>\n",
       "      <th>Balanced Accuracy</th>\n",
       "      <th>F1 Score</th>\n",
       "      <th>Specificity</th>\n",
       "      <th>Parity Score race</th>\n",
       "      <th>Parity Score gender</th>\n",
       "      <th>Intersectional Parity Score</th>\n",
       "      <th>Model</th>\n",
       "    </tr>\n",
       "  </thead>\n",
       "  <tbody>\n",
       "    <tr>\n",
       "      <th>0</th>\n",
       "      <td>0.54000</td>\n",
       "      <td>0.65000</td>\n",
       "      <td>0.47000</td>\n",
       "      <td>0.44000</td>\n",
       "      <td>0.88000</td>\n",
       "      <td>0.79000</td>\n",
       "      <td>0.78000</td>\n",
       "      <td>FRFC03</td>\n",
       "    </tr>\n",
       "    <tr>\n",
       "      <th>1</th>\n",
       "      <td>0.66000</td>\n",
       "      <td>0.75000</td>\n",
       "      <td>0.57000</td>\n",
       "      <td>0.58000</td>\n",
       "      <td>0.86000</td>\n",
       "      <td>0.67000</td>\n",
       "      <td>0.71000</td>\n",
       "      <td>FRFC05</td>\n",
       "    </tr>\n",
       "    <tr>\n",
       "      <th>2</th>\n",
       "      <td>0.42000</td>\n",
       "      <td>0.61000</td>\n",
       "      <td>0.45000</td>\n",
       "      <td>0.24000</td>\n",
       "      <td>0.88000</td>\n",
       "      <td>0.80000</td>\n",
       "      <td>0.77000</td>\n",
       "      <td>FRFC07</td>\n",
       "    </tr>\n",
       "    <tr>\n",
       "      <th>3</th>\n",
       "      <td>1.00000</td>\n",
       "      <td>1.00000</td>\n",
       "      <td>1.00000</td>\n",
       "      <td>1.00000</td>\n",
       "      <td>0.85000</td>\n",
       "      <td>0.80000</td>\n",
       "      <td>0.81000</td>\n",
       "      <td>Dataset</td>\n",
       "    </tr>\n",
       "  </tbody>\n",
       "</table>\n",
       "</div>"
      ],
      "text/plain": [
       "   Accuracy  Balanced Accuracy  F1 Score  Specificity  Parity Score race  \\\n",
       "0   0.54000            0.65000   0.47000      0.44000            0.88000   \n",
       "1   0.66000            0.75000   0.57000      0.58000            0.86000   \n",
       "2   0.42000            0.61000   0.45000      0.24000            0.88000   \n",
       "3   1.00000            1.00000   1.00000      1.00000            0.85000   \n",
       "\n",
       "   Parity Score gender  Intersectional Parity Score    Model  \n",
       "0              0.79000                      0.78000   FRFC03  \n",
       "1              0.67000                      0.71000   FRFC05  \n",
       "2              0.80000                      0.77000   FRFC07  \n",
       "3              0.80000                      0.81000  Dataset  "
      ]
     },
     "execution_count": 83,
     "metadata": {},
     "output_type": "execute_result"
    }
   ],
   "source": [
    "fairnessDF = pd.DataFrame()\n",
    "fairnessDF = fairnessDF.append(fairness_report(y, pred_adult_FRFC03, sensitive, 'FRFC03'), ignore_index=True);\n",
    "fairnessDF = fairnessDF.append(fairness_report(y, pred_adult_FRFC05, sensitive, 'FRFC05'), ignore_index=True);\n",
    "fairnessDF = fairnessDF.append(fairness_report(y, pred_adult_FRFC07, sensitive, 'FRFC07'), ignore_index=True);\n",
    "fairnessDF = fairnessDF.append(fairness_report(y, y, sensitive, 'Dataset'), ignore_index=True);\n",
    "fairnessDF.round(2)"
   ]
  },
  {
   "cell_type": "markdown",
   "metadata": {},
   "source": [
    "### ROC Curve"
   ]
  },
  {
   "cell_type": "code",
   "execution_count": 84,
   "metadata": {},
   "outputs": [
    {
     "data": {
      "image/png": "[encoded data removed]",
      "text/plain": [
       "<Figure size 432x288 with 1 Axes>"
      ]
     },
     "metadata": {},
     "output_type": "display_data"
    }
   ],
   "source": [
    "fpr_fair, tpr_fair, threshold = roc_curve(y,  pred_adult_prob_FRFC03)\n",
    "fpr_income, tpr_income, _ = roc_curve(y,  pred_adult_prob_FRFC05)\n",
    "fpr_NBsens, tpr_NBsens, _ = roc_curve(y,  pred_adult_prob_FRFC07)\n",
    "\n",
    "#create ROC curve\n",
    "plt.plot(fpr_fair, tpr_fair, label='FRFC03', linewidth=1)\n",
    "plt.plot(fpr_income, tpr_income, label='FRFC05', linewidth=1)\n",
    "plt.plot(fpr_NBsens, tpr_NBsens, label='FRFC07', linewidth=1)\n",
    "plt.ylabel('True Positive Rate')\n",
    "plt.xlabel('False Positive Rate')\n",
    "plt.axline((1, 1), slope=1, ls=\"--\")\n",
    "plt.legend()\n",
    "plt.savefig('figures/adult_FRFC_roc.png', dpi=200)\n",
    "plt.show()"
   ]
  },
  {
   "cell_type": "markdown",
   "metadata": {},
   "source": [
    "### AUC Score Label"
   ]
  },
  {
   "cell_type": "code",
   "execution_count": 85,
   "metadata": {},
   "outputs": [
    {
     "data": {
      "text/plain": [
       "0.8601396813312248"
      ]
     },
     "execution_count": 85,
     "metadata": {},
     "output_type": "execute_result"
    }
   ],
   "source": [
    "roc_auc_score(y, pred_adult_prob_FRFC05)"
   ]
  },
  {
   "cell_type": "markdown",
   "metadata": {},
   "source": [
    "### AUC Score Sensitive"
   ]
  },
  {
   "cell_type": "code",
   "execution_count": 86,
   "metadata": {},
   "outputs": [
    {
     "data": {
      "text/plain": [
       "0.7139815374554921"
      ]
     },
     "execution_count": 86,
     "metadata": {},
     "output_type": "execute_result"
    }
   ],
   "source": [
    "sns_auc_score(sensitive['gender'], pred_adult_prob_FRFC05)"
   ]
  },
  {
   "cell_type": "markdown",
   "metadata": {},
   "source": [
    "## Compas Dataset"
   ]
  },
  {
   "cell_type": "code",
   "execution_count": 90,
   "metadata": {},
   "outputs": [
    {
     "name": "stderr",
     "output_type": "stream",
     "text": [
      "/home/bcwein/anaconda3/envs/forseti/lib/python3.7/site-packages/ipykernel_launcher.py:15: SettingWithCopyWarning: \n",
      "A value is trying to be set on a copy of a slice from a DataFrame.\n",
      "Try using .loc[row_indexer,col_indexer] = value instead\n",
      "\n",
      "See the caveats in the documentation: https://pandas.pydata.org/pandas-docs/stable/user_guide/indexing.html#returning-a-view-versus-a-copy\n",
      "  from ipykernel import kernelapp as app\n"
     ]
    }
   ],
   "source": [
    "scores = pd.read_csv('data/compas-two-yrs-recidivism.csv')\n",
    "features = [\n",
    "    'sex',\n",
    "    'age',\n",
    "    'race',\n",
    "    'priors_count',\n",
    "    'juv_fel_count',\n",
    "    'juv_misd_count',\n",
    "    'juv_other_count',\n",
    "    'c_charge_degree',\n",
    "    'two_year_recid'\n",
    "]\n",
    "\n",
    "tmp = scores[features]\n",
    "tmp['two_year_recid'] = tmp['two_year_recid'].astype('category')\n",
    "\n",
    "data, codes = translate_categorical(tmp.copy(deep=True))\n",
    "sensitive_attributes = ['sex', 'race']\n",
    "\n",
    "test = data[6000:]\n",
    "sensitive, features = extract_sensitive(test, sensitive_attributes) \n",
    "\n",
    "y = features['two_year_recid']\n",
    "X = features.drop('two_year_recid', axis=1)\n",
    "\n",
    "pred_compas_FRFC03 = pd.read_csv('results/pred_compas_FRFC_0.3.csv', index_col=0)\n",
    "pred_compas_FRFC05 = pd.read_csv('results/pred_compas_FRFC_0.5.csv', index_col=0)\n",
    "pred_compas_FRFC07 = pd.read_csv('results/pred_compas_FRFC_0.7.csv', index_col=0)\n",
    "pred_compas_prob_FRFC03 = pd.read_csv('results/pred_compas_prob_FRFC_0.3.csv', index_col=0)\n",
    "pred_compas_prob_FRFC05 = pd.read_csv('results/pred_compas_prob_FRFC_0.5.csv', index_col=0)\n",
    "pred_compas_prob_FRFC07 = pd.read_csv('results/pred_compas_prob_FRFC_0.7.csv', index_col=0)"
   ]
  },
  {
   "cell_type": "markdown",
   "metadata": {},
   "source": [
    "### Fairness Report"
   ]
  },
  {
   "cell_type": "code",
   "execution_count": 91,
   "metadata": {},
   "outputs": [
    {
     "data": {
      "text/html": [
       "<div>\n",
       "<style scoped>\n",
       "    .dataframe tbody tr th:only-of-type {\n",
       "        vertical-align: middle;\n",
       "    }\n",
       "\n",
       "    .dataframe tbody tr th {\n",
       "        vertical-align: top;\n",
       "    }\n",
       "\n",
       "    .dataframe thead th {\n",
       "        text-align: right;\n",
       "    }\n",
       "</style>\n",
       "<table border=\"1\" class=\"dataframe\">\n",
       "  <thead>\n",
       "    <tr style=\"text-align: right;\">\n",
       "      <th></th>\n",
       "      <th>Accuracy</th>\n",
       "      <th>Balanced Accuracy</th>\n",
       "      <th>F1 Score</th>\n",
       "      <th>Specificity</th>\n",
       "      <th>Parity Score sex</th>\n",
       "      <th>Parity Score race</th>\n",
       "      <th>Intersectional Parity Score</th>\n",
       "      <th>Model</th>\n",
       "    </tr>\n",
       "  </thead>\n",
       "  <tbody>\n",
       "    <tr>\n",
       "      <th>0</th>\n",
       "      <td>0.53000</td>\n",
       "      <td>0.56000</td>\n",
       "      <td>0.64000</td>\n",
       "      <td>0.20000</td>\n",
       "      <td>0.99000</td>\n",
       "      <td>0.82000</td>\n",
       "      <td>0.82000</td>\n",
       "      <td>FRFC03</td>\n",
       "    </tr>\n",
       "    <tr>\n",
       "      <th>1</th>\n",
       "      <td>0.61000</td>\n",
       "      <td>0.59000</td>\n",
       "      <td>0.39000</td>\n",
       "      <td>0.91000</td>\n",
       "      <td>0.90000</td>\n",
       "      <td>0.66000</td>\n",
       "      <td>0.45000</td>\n",
       "      <td>FRFC05</td>\n",
       "    </tr>\n",
       "    <tr>\n",
       "      <th>2</th>\n",
       "      <td>0.46000</td>\n",
       "      <td>0.50000</td>\n",
       "      <td>0.63000</td>\n",
       "      <td>0.00000</td>\n",
       "      <td>1.00000</td>\n",
       "      <td>1.00000</td>\n",
       "      <td>1.00000</td>\n",
       "      <td>FRFC07</td>\n",
       "    </tr>\n",
       "    <tr>\n",
       "      <th>3</th>\n",
       "      <td>1.00000</td>\n",
       "      <td>1.00000</td>\n",
       "      <td>1.00000</td>\n",
       "      <td>1.00000</td>\n",
       "      <td>0.94000</td>\n",
       "      <td>0.54000</td>\n",
       "      <td>0.50000</td>\n",
       "      <td>Dataset</td>\n",
       "    </tr>\n",
       "  </tbody>\n",
       "</table>\n",
       "</div>"
      ],
      "text/plain": [
       "   Accuracy  Balanced Accuracy  F1 Score  Specificity  Parity Score sex  \\\n",
       "0   0.53000            0.56000   0.64000      0.20000           0.99000   \n",
       "1   0.61000            0.59000   0.39000      0.91000           0.90000   \n",
       "2   0.46000            0.50000   0.63000      0.00000           1.00000   \n",
       "3   1.00000            1.00000   1.00000      1.00000           0.94000   \n",
       "\n",
       "   Parity Score race  Intersectional Parity Score    Model  \n",
       "0            0.82000                      0.82000   FRFC03  \n",
       "1            0.66000                      0.45000   FRFC05  \n",
       "2            1.00000                      1.00000   FRFC07  \n",
       "3            0.54000                      0.50000  Dataset  "
      ]
     },
     "execution_count": 91,
     "metadata": {},
     "output_type": "execute_result"
    }
   ],
   "source": [
    "fairnessDF = pd.DataFrame()\n",
    "fairnessDF = fairnessDF.append(fairness_report(y, pred_compas_FRFC03, sensitive, 'FRFC03'), ignore_index=True);\n",
    "fairnessDF = fairnessDF.append(fairness_report(y, pred_compas_FRFC05, sensitive, 'FRFC05'), ignore_index=True);\n",
    "fairnessDF = fairnessDF.append(fairness_report(y, pred_compas_FRFC07, sensitive, 'FRFC07'), ignore_index=True);\n",
    "fairnessDF = fairnessDF.append(fairness_report(y, y, sensitive, 'Dataset'), ignore_index=True);\n",
    "fairnessDF.round(2)"
   ]
  },
  {
   "cell_type": "markdown",
   "metadata": {},
   "source": [
    "### ROC Curve"
   ]
  },
  {
   "cell_type": "code",
   "execution_count": 93,
   "metadata": {},
   "outputs": [
    {
     "data": {
      "image/png": "[encoded data removed]",
      "text/plain": [
       "<Figure size 432x288 with 1 Axes>"
      ]
     },
     "metadata": {},
     "output_type": "display_data"
    }
   ],
   "source": [
    "fpr_fair, tpr_fair, threshold = roc_curve(y,  pred_compas_prob_FRFC03)\n",
    "fpr_income, tpr_income, _ = roc_curve(y,  pred_compas_prob_FRFC05)\n",
    "fpr_NBsens, tpr_NBsens, _ = roc_curve(y,  pred_compas_prob_FRFC07)\n",
    "\n",
    "#create ROC curve\n",
    "plt.plot(fpr_fair, tpr_fair, label='FRFC03', linewidth=1)\n",
    "plt.plot(fpr_income, tpr_income, label='FRFC05', linewidth=1)\n",
    "plt.plot(fpr_NBsens, tpr_NBsens, label='FRFC07', linewidth=1)\n",
    "plt.ylabel('True Positive Rate')\n",
    "plt.xlabel('False Positive Rate')\n",
    "plt.axline((1, 1), slope=1, ls=\"--\")\n",
    "plt.legend()\n",
    "plt.savefig('figures/compas_FRFC_roc.png', dpi=200)\n",
    "plt.show()"
   ]
  },
  {
   "cell_type": "markdown",
   "metadata": {},
   "source": [
    "### AUC Score Label"
   ]
  },
  {
   "cell_type": "code",
   "execution_count": 96,
   "metadata": {},
   "outputs": [
    {
     "data": {
      "text/plain": [
       "0.7021483867970673"
      ]
     },
     "execution_count": 96,
     "metadata": {},
     "output_type": "execute_result"
    }
   ],
   "source": [
    "roc_auc_score(y, pred_compas_prob_FRFC03)"
   ]
  },
  {
   "cell_type": "markdown",
   "metadata": {},
   "source": [
    "## AUC Score Sensitive"
   ]
  },
  {
   "cell_type": "code",
   "execution_count": 97,
   "metadata": {},
   "outputs": [
    {
     "data": {
      "text/plain": [
       "0.5761435099307787"
      ]
     },
     "execution_count": 97,
     "metadata": {},
     "output_type": "execute_result"
    }
   ],
   "source": [
    "sns_auc_score(sensitive['sex'], pred_compas_prob_FRFC05)"
   ]
  }
 ],
 "metadata": {
  "interpreter": {
   "hash": "dd29c087e73fa7375bf1e02101747c62c69b10311acdbd79d0623f1fb832c9d1"
  },
  "kernelspec": {
   "display_name": "Python 3.8.12 ('forseti')",
   "language": "python",
   "name": "python3"
  },
  "language_info": {
   "codemirror_mode": {
    "name": "ipython",
    "version": 3
   },
   "file_extension": ".py",
   "mimetype": "text/x-python",
   "name": "python",
   "nbconvert_exporter": "python",
   "pygments_lexer": "ipython3",
   "version": "3.7.12"
  },
  "orig_nbformat": 4
 },
 "nbformat": 4,
 "nbformat_minor": 2
}
