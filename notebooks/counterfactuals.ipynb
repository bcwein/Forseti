{
 "cells": [
  {
   "cell_type": "markdown",
   "metadata": {},
   "source": [
    "# Generating Counterfactuals\n",
    "\n",
    "In this notebook, we will focus on generating counterfactuals from individual\n",
    "datapoints. This will be implemented for the following models:\n",
    "\n",
    "- Naive Bayes\n",
    "- Fair Bayesian Network\n",
    "- Fair Random Forest Classifier\n",
    "\n",
    "By generating counterfactuals, we hope to gain insight into how the model uses\n",
    "the different attributes in it's decisions."
   ]
  },
  {
   "cell_type": "code",
   "execution_count": 15,
   "metadata": {},
   "outputs": [],
   "source": [
    "import sys\n",
    "import os\n",
    "\n",
    "module_path = os.path.abspath(os.path.join(\"..\"))\n",
    "if module_path not in sys.path:\n",
    "    sys.path.append(module_path)\n",
    "\n",
    "from forseti.bayesnet import latentLabelClassifier, interpretableNaiveBayes\n",
    "import pandas as pd\n",
    "from random import sample\n",
    "import numpy as np\n",
    "from forseti.datproc import translate_categorical\n",
    "\n",
    "df = pd.read_csv(\"data/adult.csv\")\n",
    "\n",
    "clf = interpretableNaiveBayes()\n",
    "\n",
    "tmp = df\n",
    "label = \"income\"\n",
    "\n",
    "clf.train(label, tmp, \"NB\")"
   ]
  },
  {
   "cell_type": "code",
   "execution_count": 23,
   "metadata": {},
   "outputs": [],
   "source": [
    "test = df.drop(label, axis=1)\n",
    "test, _ = translate_categorical(test)"
   ]
  },
  {
   "cell_type": "code",
   "execution_count": null,
   "metadata": {},
   "outputs": [],
   "source": [
    "import numpy as np\n",
    "from pymoo.core.problem import ElementwiseProblem\n",
    "\n",
    "class ElementwiseSphereWithConstraint(ElementwiseProblem):\n",
    "    def _evaluate(self, x, out, *args, **kwargs):\n",
    "        out[\"O1\"] = clf.predict_probability(pd.DataFrame(test.iloc[0]).T).iloc[:, 1]"
   ]
  },
  {
   "cell_type": "code",
   "execution_count": 37,
   "metadata": {},
   "outputs": [],
   "source": [
    "from pymoo.algorithms.moo.nsga2 import NSGA2\n",
    "from pymoo.factory import get_problem\n",
    "from pymoo.optimize import minimize\n",
    "from pymoo.visualization.scatter import Scatter\n",
    "\n",
    "problem = get_problem(\"zdt1\")\n",
    "\n",
    "algorithm = NSGA2(pop_size=100)\n",
    "\n",
    "res = minimize(problem,\n",
    "               algorithm,\n",
    "               ('n_gen', 200),\n",
    "               seed=1,\n",
    "               verbose=True)\n",
    "\n",
    "plot = Scatter()\n",
    "plot.add(problem.pareto_front(), plot_type=\"line\", color=\"black\", alpha=0.7)\n",
    "plot.add(res.F, color=\"red\")\n",
    "plot.show()"
   ]
  }
 ],
 "metadata": {
  "interpreter": {
   "hash": "c3d815725cc6a6fa8228024c74f3070b3b15922f57a0d1a0d80cc97f69923cf0"
  },
  "kernelspec": {
   "display_name": "Python 3.7.12 ('forseti')",
   "language": "python",
   "name": "python3"
  },
  "language_info": {
   "codemirror_mode": {
    "name": "ipython",
    "version": 3
   },
   "file_extension": ".py",
   "mimetype": "text/x-python",
   "name": "python",
   "nbconvert_exporter": "python",
   "pygments_lexer": "ipython3",
   "version": "3.7.12"
  },
  "orig_nbformat": 4
 },
 "nbformat": 4,
 "nbformat_minor": 2
}
