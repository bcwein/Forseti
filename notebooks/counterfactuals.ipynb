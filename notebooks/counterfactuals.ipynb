{
 "cells": [
  {
   "cell_type": "markdown",
   "metadata": {},
   "source": [
    "# Generating Counterfactuals\n",
    "\n",
    "In this notebook, we will focus on generating counterfactuals from individual\n",
    "datapoints. This will be implemented for the following models:\n",
    "\n",
    "- Naive Bayes\n",
    "- Fair Bayesian Network\n",
    "- Fair Random Forest Classifier\n",
    "\n",
    "By generating counterfactuals, we hope to gain insight into how the model uses\n",
    "the different attributes in it's decisions."
   ]
  },
  {
   "cell_type": "code",
   "execution_count": 1,
   "metadata": {},
   "outputs": [],
   "source": [
    "import sys\n",
    "import os\n",
    "\n",
    "module_path = os.path.abspath(os.path.join(\"..\"))\n",
    "if module_path not in sys.path:\n",
    "    sys.path.append(module_path)\n",
    "\n",
    "from forseti.bayesnet import latentLabelClassifier, interpretableNaiveBayes\n",
    "import pandas as pd\n",
    "from random import sample\n",
    "import numpy as np\n",
    "from forseti.datproc import translate_categorical\n",
    "from forseti.tree import interpretableTree\n",
    "\n",
    "df = pd.read_csv(\"data/adult.csv\")\n",
    "\n",
    "clf = interpretableNaiveBayes()\n",
    "\n",
    "tmp = df.copy(deep=True)\n",
    "label = \"income\"\n",
    "clf.train(label, df, \"NB\")\n",
    "tmp, _ = translate_categorical(tmp)\n",
    "tmp = tmp.drop(label, axis=1)"
   ]
  },
  {
   "cell_type": "markdown",
   "metadata": {},
   "source": [
    "## Naive Bayes, Black Female Low Income"
   ]
  },
  {
   "cell_type": "code",
   "execution_count": 3,
   "metadata": {},
   "outputs": [
    {
     "name": "stderr",
     "output_type": "stream",
     "text": [
      "/home/bcwein/anaconda3/envs/forseti/lib/python3.7/site-packages/pgmpy/factors/discrete/DiscreteFactor.py:537: UserWarning: Found unknown state name. Trying to switch to using all state names as state numbers\n",
      "  UserWarning,\n",
      "/home/bcwein/anaconda3/envs/forseti/lib/python3.7/site-packages/pgmpy/factors/discrete/DiscreteFactor.py:472: RuntimeWarning: invalid value encountered in true_divide\n",
      "  phi.values = phi.values / phi.values.sum()\n",
      "/home/bcwein/Code/Forseti/forseti/bayesnet.py:523: RuntimeWarning: divide by zero encountered in double_scalars\n",
      "  abs(In[obj].max() - In[obj].min())\n",
      "/home/bcwein/Code/Forseti/forseti/bayesnet.py:523: RuntimeWarning: invalid value encountered in double_scalars\n",
      "  abs(In[obj].max() - In[obj].min())\n"
     ]
    }
   ],
   "source": [
    "idx = df[\n",
    "    (df.gender == 'Female') & # Female\n",
    "    (df.race == 'Black') & # Black\n",
    "    (df.income == '<=50K') # Low Income\n",
    "].sample(1).index[0]\n",
    "\n",
    "idx = 23356\n",
    "\n",
    "datapoint = pd.DataFrame(tmp.loc[idx]).T\n",
    "datapoint, R = clf.generateCounterfactuals(datapoint, candidates=100, gen=5)"
   ]
  },
  {
   "cell_type": "markdown",
   "metadata": {},
   "source": [
    "## Show the Datapoint"
   ]
  },
  {
   "cell_type": "code",
   "execution_count": 4,
   "metadata": {},
   "outputs": [
    {
     "name": "stdout",
     "output_type": "stream",
     "text": [
      "\\begin{tabular}{lllllllllll}\n",
      "\\toprule\n",
      "{} &             age & workclass & education & marital-status & occupation & relationship &   race &  gender &          capital-gain & hours-per-week \\\\\n",
      "\\midrule\n",
      "23356 &  (16.927, 31.6] &         ? &   HS-grad &      Separated &          ? &    Unmarried &  Black &  Female &  (-4460.355, 16515.0] &   (20.6, 40.2] \\\\\n",
      "\\bottomrule\n",
      "\\end{tabular}\n",
      "\n"
     ]
    }
   ],
   "source": [
    "print(\n",
    "    datapoint.to_latex()\n",
    ")"
   ]
  },
  {
   "cell_type": "markdown",
   "metadata": {},
   "source": [
    "## Show Counterfactuals"
   ]
  },
  {
   "cell_type": "code",
   "execution_count": 5,
   "metadata": {},
   "outputs": [
    {
     "name": "stdout",
     "output_type": "stream",
     "text": [
      "\\begin{tabular}{lllllllllllrrrr}\n",
      "\\toprule\n",
      "Empty DataFrame\n",
      "Columns: Index(['age', 'workclass', 'education', 'marital-status', 'occupation',\n",
      "       'relationship', 'race', 'gender', 'capital-gain', 'hours-per-week',\n",
      "       'O1', 'O2', 'O3', 'O4'],\n",
      "      dtype='object')\n",
      "Index: Int64Index([], dtype='int64') \\\\\n",
      "\\bottomrule\n",
      "\\end{tabular}\n",
      "\n"
     ]
    }
   ],
   "source": [
    "print(\n",
    "    R[\n",
    "        (R['O1'] <= 0.5)\n",
    "    ].sort_values(['O1', 'O3']).to_latex()\n",
    ")"
   ]
  },
  {
   "cell_type": "markdown",
   "metadata": {},
   "source": [
    "## Naive Bayes Without Sensitive, Black Female Low Income"
   ]
  },
  {
   "cell_type": "code",
   "execution_count": 16,
   "metadata": {},
   "outputs": [
    {
     "name": "stderr",
     "output_type": "stream",
     "text": [
      "/home/bcwein/anaconda3/envs/forseti/lib/python3.7/site-packages/pgmpy/factors/discrete/DiscreteFactor.py:537: UserWarning: Found unknown state name. Trying to switch to using all state names as state numbers\n",
      "  UserWarning,\n",
      "/home/bcwein/anaconda3/envs/forseti/lib/python3.7/site-packages/pgmpy/factors/discrete/DiscreteFactor.py:472: RuntimeWarning: invalid value encountered in true_divide\n",
      "  phi.values = phi.values / phi.values.sum()\n"
     ]
    }
   ],
   "source": [
    "df = pd.read_csv(\"data/adult.csv\")\n",
    "\n",
    "clf = interpretableNaiveBayes()\n",
    "\n",
    "tmp = df.copy(deep=True)\n",
    "label = \"income\"\n",
    "df[['race', 'gender']] = np.random.permutation(df[['race', 'gender']])\n",
    "clf.train(label, df, \"NB\")\n",
    "tmp, _ = translate_categorical(tmp)\n",
    "tmp = tmp.drop(label, axis=1)\n",
    "\n",
    "datapoint = pd.DataFrame(tmp.loc[idx]).T\n",
    "datapoint, R = clf.generateCounterfactuals(datapoint, candidates=100, gen=5)"
   ]
  },
  {
   "cell_type": "markdown",
   "metadata": {},
   "source": [
    "## Show the datapoint"
   ]
  },
  {
   "cell_type": "code",
   "execution_count": 17,
   "metadata": {},
   "outputs": [
    {
     "name": "stdout",
     "output_type": "stream",
     "text": [
      "\\begin{tabular}{lllllllllll}\n",
      "\\toprule\n",
      "{} &             age & workclass & education & marital-status & occupation & relationship &   race &  gender &          capital-gain & hours-per-week \\\\\n",
      "\\midrule\n",
      "23356 &  (16.927, 31.6] &         ? &   HS-grad &      Separated &          ? &    Unmarried &  Black &  Female &  (-4460.355, 16515.0] &   (20.6, 40.2] \\\\\n",
      "\\bottomrule\n",
      "\\end{tabular}\n",
      "\n"
     ]
    }
   ],
   "source": [
    "print(datapoint.to_latex())"
   ]
  },
  {
   "cell_type": "markdown",
   "metadata": {},
   "source": [
    "## Show the counterfactuals"
   ]
  },
  {
   "cell_type": "code",
   "execution_count": 18,
   "metadata": {},
   "outputs": [
    {
     "name": "stdout",
     "output_type": "stream",
     "text": [
      "\\begin{tabular}{lllllllllllrrrr}\n",
      "\\toprule\n",
      "{} &             age &  workclass &  education &     marital-status & occupation &   relationship &                race &  gender &          capital-gain & hours-per-week &        O1 &   O2 &  O3 &   O4 \\\\\n",
      "\\midrule\n",
      "128 &  (16.927, 31.6] &  State-gov &    HS-grad &          Separated &          ? &      Unmarried &               Black &    Male &    (79128.0, 99999.0] &   (20.6, 40.2] &  0.000000 &  0.7 &   3 &  0.0 \\\\\n",
      "97  &    (31.6, 46.2] &          ? &    HS-grad &          Separated &          ? &  Not-in-family &               Black &    Male &    (79128.0, 99999.0] &   (20.6, 40.2] &  0.000000 &  0.6 &   4 &  0.0 \\\\\n",
      "147 &  (16.927, 31.6] &  State-gov &  Doctorate &          Separated &          ? &      Unmarried &               Black &    Male &    (79128.0, 99999.0] &   (20.6, 40.2] &  0.000000 &  0.6 &   4 &  0.0 \\\\\n",
      "136 &    (31.6, 46.2] &  State-gov &  Doctorate &  Married-AF-spouse &          ? &        Husband &  Amer-Indian-Eskimo &  Female &  (-4460.355, 16515.0] &   (20.6, 40.2] &  0.165877 &  0.4 &   6 &  0.1 \\\\\n",
      "\\bottomrule\n",
      "\\end{tabular}\n",
      "\n"
     ]
    }
   ],
   "source": [
    "print(\n",
    "    R[\n",
    "        (R['O1'] <= 0.5)\n",
    "    ].sort_values(['O1', 'O3']).to_latex()\n",
    ")"
   ]
  },
  {
   "cell_type": "markdown",
   "metadata": {},
   "source": [
    "## Fair Bayesian Network"
   ]
  },
  {
   "cell_type": "code",
   "execution_count": 9,
   "metadata": {},
   "outputs": [],
   "source": [
    "df = pd.read_csv(\"data/adult.csv\")\n",
    "tmp = df.copy(deep=True)\n",
    "tmp, _ = translate_categorical(tmp)\n",
    "tmp = tmp.drop(label, axis=1)\n",
    "label = \"income\"\n",
    "sensitives = ['gender', 'race']\n",
    "\n",
    "clf = latentLabelClassifier(\n",
    "    df, \n",
    "    sensitives, \n",
    "    label\n",
    ")\n",
    "\n",
    "datapoint = pd.DataFrame(tmp.iloc[idx]).T\n",
    "clf.load('trained-models/fair_model.sav')\n",
    "datapoint, R = clf.generateCounterfactuals(datapoint, candidates=100, gen=5)"
   ]
  },
  {
   "cell_type": "markdown",
   "metadata": {},
   "source": [
    "## Show the datapoint"
   ]
  },
  {
   "cell_type": "code",
   "execution_count": 10,
   "metadata": {},
   "outputs": [
    {
     "name": "stdout",
     "output_type": "stream",
     "text": [
      "\\begin{tabular}{lllllllllll}\n",
      "\\toprule\n",
      "{} &             age & workclass & education & marital-status & occupation & relationship &   race &  gender &          capital-gain & hours-per-week \\\\\n",
      "\\midrule\n",
      "23356 &  (16.927, 31.6] &         ? &   HS-grad &      Separated &          ? &    Unmarried &  Black &  Female &  (-4460.355, 16515.0] &   (20.6, 40.2] \\\\\n",
      "\\bottomrule\n",
      "\\end{tabular}\n",
      "\n"
     ]
    }
   ],
   "source": [
    "print(datapoint.to_latex())"
   ]
  },
  {
   "cell_type": "markdown",
   "metadata": {},
   "source": [
    "## Show the counterfactuals"
   ]
  },
  {
   "cell_type": "code",
   "execution_count": 11,
   "metadata": {},
   "outputs": [
    {
     "name": "stdout",
     "output_type": "stream",
     "text": [
      "\\begin{tabular}{lllllllllllrrrr}\n",
      "\\toprule\n",
      "{} &             age &         workclass &   education & marital-status &       occupation &   relationship &                race &  gender &        capital-gain & hours-per-week &            O1 &   O2 &  O3 &   O4 \\\\\n",
      "\\midrule\n",
      "111 &  (16.927, 31.6] &                 ? &        11th &      Separated &                ? &      Unmarried &               Black &  Female &  (79128.0, 99999.0] &   (79.4, 99.0] &  0.000000e+00 &  0.7 &   3 &  0.0 \\\\\n",
      "114 &  (16.927, 31.6] &                 ? &     HS-grad &      Separated &                ? &      Unmarried &               White &  Female &  (79128.0, 99999.0] &   (79.4, 99.0] &  0.000000e+00 &  0.7 &   3 &  0.0 \\\\\n",
      "162 &  (16.927, 31.6] &                 ? &        11th &      Separated &                ? &      Unmarried &               White &  Female &  (79128.0, 99999.0] &   (20.6, 40.2] &  0.000000e+00 &  0.7 &   3 &  0.1 \\\\\n",
      "58  &  (16.927, 31.6] &      Never-worked &     HS-grad &      Separated &                ? &      Unmarried &  Asian-Pac-Islander &  Female &  (58257.0, 79128.0] &   (79.4, 99.0] &  0.000000e+00 &  0.6 &   4 &  0.0 \\\\\n",
      "118 &  (16.927, 31.6] &                 ? &  Assoc-acdm &      Separated &                ? &      Unmarried &               Black &    Male &  (79128.0, 99999.0] &   (79.4, 99.0] &  0.000000e+00 &  0.6 &   4 &  0.0 \\\\\n",
      "172 &  (16.927, 31.6] &      Never-worked &        11th &      Separated &                ? &      Unmarried &               White &  Female &  (58257.0, 79128.0] &   (20.6, 40.2] &  0.000000e+00 &  0.6 &   4 &  0.1 \\\\\n",
      "195 &  (16.927, 31.6] &      Never-worked &        11th &      Separated &                ? &      Unmarried &               White &    Male &  (79128.0, 99999.0] &   (40.2, 59.8] &  0.000000e+00 &  0.4 &   6 &  0.0 \\\\\n",
      "57  &    (75.4, 90.0] &  Self-emp-not-inc &  Assoc-acdm &      Separated &  Exec-managerial &      Unmarried &  Asian-Pac-Islander &  Female &  (58257.0, 79128.0] &   (79.4, 99.0] &  0.000000e+00 &  0.3 &   7 &  0.0 \\\\\n",
      "60  &    (75.4, 90.0] &  Self-emp-not-inc &        11th &      Separated &  Exec-managerial &      Unmarried &               White &    Male &  (79128.0, 99999.0] &   (79.4, 99.0] &  0.000000e+00 &  0.2 &   8 &  0.0 \\\\\n",
      "165 &  (16.927, 31.6] &      Never-worked &        11th &      Separated &                ? &  Not-in-family &               Black &  Female &  (79128.0, 99999.0] &   (20.6, 40.2] &  1.110223e-16 &  0.6 &   4 &  0.0 \\\\\n",
      "\\bottomrule\n",
      "\\end{tabular}\n",
      "\n"
     ]
    }
   ],
   "source": [
    "print(\n",
    "    R[\n",
    "        (R['O1'] <= 0.5)\n",
    "    ].sort_values(['O1', 'O3']).to_latex()\n",
    ")"
   ]
  }
 ],
 "metadata": {
  "interpreter": {
   "hash": "c3d815725cc6a6fa8228024c74f3070b3b15922f57a0d1a0d80cc97f69923cf0"
  },
  "kernelspec": {
   "display_name": "Python 3.7.12 ('forseti')",
   "language": "python",
   "name": "python3"
  },
  "language_info": {
   "codemirror_mode": {
    "name": "ipython",
    "version": 3
   },
   "file_extension": ".py",
   "mimetype": "text/x-python",
   "name": "python",
   "nbconvert_exporter": "python",
   "pygments_lexer": "ipython3",
   "version": "3.7.12"
  },
  "orig_nbformat": 4
 },
 "nbformat": 4,
 "nbformat_minor": 2
}
