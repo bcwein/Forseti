{
 "cells": [
  {
   "cell_type": "markdown",
   "metadata": {},
   "source": [
    "# Generating Counterfactuals\n",
    "\n",
    "In this notebook, we will focus on generating counterfactuals from individual\n",
    "datapoints. This will be implemented for the following models:\n",
    "\n",
    "- Naive Bayes\n",
    "- Fair Bayesian Network\n",
    "- Fair Random Forest Classifier\n",
    "\n",
    "By generating counterfactuals, we hope to gain insight into how the model uses\n",
    "the different attributes in it's decisions."
   ]
  },
  {
   "cell_type": "code",
   "execution_count": 1,
   "metadata": {},
   "outputs": [],
   "source": [
    "import sys\n",
    "import os\n",
    "\n",
    "module_path = os.path.abspath(os.path.join(\"..\"))\n",
    "if module_path not in sys.path:\n",
    "    sys.path.append(module_path)\n",
    "\n",
    "from forseti.bayesnet import latentLabelClassifier, interpretableNaiveBayes\n",
    "import pandas as pd\n",
    "from random import sample\n",
    "\n",
    "df = pd.read_csv('data/adult.csv')\n",
    "    \n",
    "clf = interpretableNaiveBayes()\n",
    "\n",
    "tmp = df\n",
    "label = 'income'\n",
    "\n",
    "clf.train(\n",
    "    label,\n",
    "    tmp,\n",
    "    'NB'\n",
    ")"
   ]
  },
  {
   "cell_type": "code",
   "execution_count": 2,
   "metadata": {},
   "outputs": [
    {
     "name": "stderr",
     "output_type": "stream",
     "text": [
      "/home/bcwein/anaconda3/envs/forseti/lib/python3.7/site-packages/pgmpy/factors/discrete/DiscreteFactor.py:537: UserWarning: Found unknown state name. Trying to switch to using all state names as state numbers\n",
      "  UserWarning,\n",
      "/home/bcwein/anaconda3/envs/forseti/lib/python3.7/site-packages/pgmpy/factors/discrete/DiscreteFactor.py:472: RuntimeWarning: invalid value encountered in true_divide\n",
      "  phi.values = phi.values / phi.values.sum()\n"
     ]
    }
   ],
   "source": [
    "datapoint, X = clf.generateCounterfactuals()"
   ]
  },
  {
   "cell_type": "code",
   "execution_count": 5,
   "metadata": {},
   "outputs": [],
   "source": [
    "def dominates(row1, row2):\n",
    "    opt = ['O1', 'O2', 'O3', 'O4']\n",
    "    return (X.iloc[row1][opt] <= X.iloc[row2][opt]).sum() < 4\n",
    "\n",
    "# Rank parent population\n",
    "F1 = set()\n",
    "for p in range(len(X)):\n",
    "    Sp = set()\n",
    "    Np = 0\n",
    "    for q in range(len(X)):\n",
    "        if dominates(p, q):\n",
    "            Sp.add(q)\n",
    "        elif dominates(q, p):\n",
    "            Np = Np + 1\n",
    "    if not(Np):\n",
    "        prank = 1\n",
    "        F1.add(p)"
   ]
  },
  {
   "cell_type": "code",
   "execution_count": 7,
   "metadata": {},
   "outputs": [
    {
     "data": {
      "text/plain": [
       "58"
      ]
     },
     "execution_count": 7,
     "metadata": {},
     "output_type": "execute_result"
    }
   ],
   "source": [
    "len(F1)"
   ]
  }
 ],
 "metadata": {
  "interpreter": {
   "hash": "c3d815725cc6a6fa8228024c74f3070b3b15922f57a0d1a0d80cc97f69923cf0"
  },
  "kernelspec": {
   "display_name": "Python 3.7.12 ('forseti')",
   "language": "python",
   "name": "python3"
  },
  "language_info": {
   "codemirror_mode": {
    "name": "ipython",
    "version": 3
   },
   "file_extension": ".py",
   "mimetype": "text/x-python",
   "name": "python",
   "nbconvert_exporter": "python",
   "pygments_lexer": "ipython3",
   "version": "3.7.12"
  },
  "orig_nbformat": 4
 },
 "nbformat": 4,
 "nbformat_minor": 2
}
