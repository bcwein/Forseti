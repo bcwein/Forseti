{
 "cells": [
  {
   "cell_type": "markdown",
   "metadata": {},
   "source": [
    "# Generating Counterfactuals\n",
    "\n",
    "In this notebook, we will focus on generating counterfactuals from individual\n",
    "datapoints. This will be implemented for the following models:\n",
    "\n",
    "- Naive Bayes\n",
    "- Fair Bayesian Network\n",
    "- Fair Random Forest Classifier\n",
    "\n",
    "By generating counterfactuals, we hope to gain insight into how the model uses\n",
    "the different attributes in it's decisions."
   ]
  },
  {
   "cell_type": "code",
   "execution_count": 1,
   "metadata": {},
   "outputs": [],
   "source": [
    "import sys\n",
    "import os\n",
    "\n",
    "module_path = os.path.abspath(os.path.join(\"..\"))\n",
    "if module_path not in sys.path:\n",
    "    sys.path.append(module_path)\n",
    "\n",
    "from forseti.bayesnet import latentLabelClassifier, interpretableNaiveBayes\n",
    "import pandas as pd\n",
    "\n",
    "df = pd.read_csv('data/adult.csv')\n",
    "    \n",
    "clf = interpretableNaiveBayes()\n",
    "\n",
    "tmp = df\n",
    "label = 'income'\n",
    "\n",
    "clf.train(\n",
    "    label,\n",
    "    tmp,\n",
    "    'NB'\n",
    ")"
   ]
  },
  {
   "cell_type": "code",
   "execution_count": 3,
   "metadata": {},
   "outputs": [
    {
     "data": {
      "text/plain": [
       "14015    None\n",
       "14015    None\n",
       "14015    None\n",
       "14015    None\n",
       "14015    None\n",
       "         ... \n",
       "14015    None\n",
       "14015    None\n",
       "14015    None\n",
       "14015    None\n",
       "14015    None\n",
       "Length: 100, dtype: object"
      ]
     },
     "execution_count": 3,
     "metadata": {},
     "output_type": "execute_result"
    }
   ],
   "source": [
    "X = clf.generateCounterfactuals()\n",
    "X"
   ]
  }
 ],
 "metadata": {
  "interpreter": {
   "hash": "c3d815725cc6a6fa8228024c74f3070b3b15922f57a0d1a0d80cc97f69923cf0"
  },
  "kernelspec": {
   "display_name": "Python 3.7.12 ('forseti')",
   "language": "python",
   "name": "python3"
  },
  "language_info": {
   "codemirror_mode": {
    "name": "ipython",
    "version": 3
   },
   "file_extension": ".py",
   "mimetype": "text/x-python",
   "name": "python",
   "nbconvert_exporter": "python",
   "pygments_lexer": "ipython3",
   "version": "3.7.12"
  },
  "orig_nbformat": 4
 },
 "nbformat": 4,
 "nbformat_minor": 2
}
