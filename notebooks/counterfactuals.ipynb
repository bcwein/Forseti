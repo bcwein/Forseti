{
 "cells": [
  {
   "cell_type": "markdown",
   "metadata": {},
   "source": [
    "# Generating Counterfactuals\n",
    "\n",
    "In this notebook, we will focus on generating counterfactuals from individual\n",
    "datapoints. This will be implemented for the following models:\n",
    "\n",
    "- Naive Bayes\n",
    "- Fair Bayesian Network\n",
    "- Fair Random Forest Classifier\n",
    "\n",
    "By generating counterfactuals, we hope to gain insight into how the model uses\n",
    "the different attributes in it's decisions."
   ]
  },
  {
   "cell_type": "code",
   "execution_count": 1,
   "metadata": {},
   "outputs": [],
   "source": [
    "import sys\n",
    "import os\n",
    "\n",
    "module_path = os.path.abspath(os.path.join(\"..\"))\n",
    "if module_path not in sys.path:\n",
    "    sys.path.append(module_path)\n",
    "\n",
    "from forseti.bayesnet import latentLabelClassifier, interpretableNaiveBayes\n",
    "import pandas as pd\n",
    "from random import sample\n",
    "import numpy as np\n",
    "from forseti.datproc import translate_categorical\n",
    "\n",
    "df = pd.read_csv(\"data/adult.csv\")\n",
    "\n",
    "clf = interpretableNaiveBayes()\n",
    "\n",
    "tmp = df.copy(deep=True)\n",
    "label = \"income\"\n",
    "clf.train(label, df, \"NB\")\n",
    "tmp, _ = translate_categorical(tmp)\n",
    "tmp = tmp.drop(label, axis=1)"
   ]
  },
  {
   "cell_type": "markdown",
   "metadata": {},
   "source": [
    "## Naive Bayes, Black Female Low Income"
   ]
  },
  {
   "cell_type": "code",
   "execution_count": 2,
   "metadata": {},
   "outputs": [
    {
     "name": "stderr",
     "output_type": "stream",
     "text": [
      "/home/bcwein/anaconda3/envs/forseti/lib/python3.7/site-packages/pgmpy/factors/discrete/DiscreteFactor.py:537: UserWarning: Found unknown state name. Trying to switch to using all state names as state numbers\n",
      "  UserWarning,\n"
     ]
    }
   ],
   "source": [
    "idx = df[\n",
    "    (df.gender == 'Female') & # Female\n",
    "    (df.race == 'Black') & # Black\n",
    "    (df.income == '<=50K') # Low Income\n",
    "].sample(1).index[0]\n",
    "\n",
    "datapoint = pd.DataFrame(tmp.iloc[idx]).T\n",
    "datapoint, R = clf.generateCounterfactuals(datapoint, candidates=100, gen=5)"
   ]
  },
  {
   "cell_type": "markdown",
   "metadata": {},
   "source": [
    "## Show the Datapoint"
   ]
  },
  {
   "cell_type": "code",
   "execution_count": 3,
   "metadata": {},
   "outputs": [
    {
     "data": {
      "text/html": [
       "<div>\n",
       "<style scoped>\n",
       "    .dataframe tbody tr th:only-of-type {\n",
       "        vertical-align: middle;\n",
       "    }\n",
       "\n",
       "    .dataframe tbody tr th {\n",
       "        vertical-align: top;\n",
       "    }\n",
       "\n",
       "    .dataframe thead th {\n",
       "        text-align: right;\n",
       "    }\n",
       "</style>\n",
       "<table border=\"1\" class=\"dataframe\">\n",
       "  <thead>\n",
       "    <tr style=\"text-align: right;\">\n",
       "      <th></th>\n",
       "      <th>age</th>\n",
       "      <th>workclass</th>\n",
       "      <th>education</th>\n",
       "      <th>marital-status</th>\n",
       "      <th>occupation</th>\n",
       "      <th>relationship</th>\n",
       "      <th>race</th>\n",
       "      <th>gender</th>\n",
       "      <th>capital-gain</th>\n",
       "      <th>hours-per-week</th>\n",
       "    </tr>\n",
       "  </thead>\n",
       "  <tbody>\n",
       "    <tr>\n",
       "      <th>6656</th>\n",
       "      <td>(16.927, 31.6]</td>\n",
       "      <td>Private</td>\n",
       "      <td>11th</td>\n",
       "      <td>Never-married</td>\n",
       "      <td>Adm-clerical</td>\n",
       "      <td>Own-child</td>\n",
       "      <td>Black</td>\n",
       "      <td>Female</td>\n",
       "      <td>(-4460.355, 16515.0]</td>\n",
       "      <td>(0.902, 20.6]</td>\n",
       "    </tr>\n",
       "  </tbody>\n",
       "</table>\n",
       "</div>"
      ],
      "text/plain": [
       "                 age workclass education marital-status    occupation  \\\n",
       "6656  (16.927, 31.6]   Private      11th  Never-married  Adm-clerical   \n",
       "\n",
       "     relationship   race  gender          capital-gain hours-per-week  \n",
       "6656    Own-child  Black  Female  (-4460.355, 16515.0]  (0.902, 20.6]  "
      ]
     },
     "execution_count": 3,
     "metadata": {},
     "output_type": "execute_result"
    }
   ],
   "source": [
    "datapoint"
   ]
  },
  {
   "cell_type": "markdown",
   "metadata": {},
   "source": [
    "## Show Counterfactuals"
   ]
  },
  {
   "cell_type": "code",
   "execution_count": 4,
   "metadata": {},
   "outputs": [
    {
     "data": {
      "text/html": [
       "<div>\n",
       "<style scoped>\n",
       "    .dataframe tbody tr th:only-of-type {\n",
       "        vertical-align: middle;\n",
       "    }\n",
       "\n",
       "    .dataframe tbody tr th {\n",
       "        vertical-align: top;\n",
       "    }\n",
       "\n",
       "    .dataframe thead th {\n",
       "        text-align: right;\n",
       "    }\n",
       "</style>\n",
       "<table border=\"1\" class=\"dataframe\">\n",
       "  <thead>\n",
       "    <tr style=\"text-align: right;\">\n",
       "      <th></th>\n",
       "      <th>age</th>\n",
       "      <th>workclass</th>\n",
       "      <th>education</th>\n",
       "      <th>marital-status</th>\n",
       "      <th>occupation</th>\n",
       "      <th>relationship</th>\n",
       "      <th>race</th>\n",
       "      <th>gender</th>\n",
       "      <th>capital-gain</th>\n",
       "      <th>hours-per-week</th>\n",
       "      <th>O1</th>\n",
       "      <th>O2</th>\n",
       "      <th>O3</th>\n",
       "      <th>O4</th>\n",
       "    </tr>\n",
       "  </thead>\n",
       "  <tbody>\n",
       "    <tr>\n",
       "      <th>102</th>\n",
       "      <td>(16.927, 31.6]</td>\n",
       "      <td>Private</td>\n",
       "      <td>11th</td>\n",
       "      <td>Never-married</td>\n",
       "      <td>Adm-clerical</td>\n",
       "      <td>Own-child</td>\n",
       "      <td>Black</td>\n",
       "      <td>Male</td>\n",
       "      <td>(58257.0, 79128.0]</td>\n",
       "      <td>(0.902, 20.6]</td>\n",
       "      <td>0.0</td>\n",
       "      <td>0.8</td>\n",
       "      <td>2</td>\n",
       "      <td>0.0</td>\n",
       "    </tr>\n",
       "    <tr>\n",
       "      <th>126</th>\n",
       "      <td>(16.927, 31.6]</td>\n",
       "      <td>Private</td>\n",
       "      <td>11th</td>\n",
       "      <td>Never-married</td>\n",
       "      <td>Adm-clerical</td>\n",
       "      <td>Own-child</td>\n",
       "      <td>Black</td>\n",
       "      <td>Male</td>\n",
       "      <td>(79128.0, 99999.0]</td>\n",
       "      <td>(0.902, 20.6]</td>\n",
       "      <td>0.0</td>\n",
       "      <td>0.8</td>\n",
       "      <td>2</td>\n",
       "      <td>0.0</td>\n",
       "    </tr>\n",
       "    <tr>\n",
       "      <th>123</th>\n",
       "      <td>(16.927, 31.6]</td>\n",
       "      <td>Private</td>\n",
       "      <td>11th</td>\n",
       "      <td>Never-married</td>\n",
       "      <td>Priv-house-serv</td>\n",
       "      <td>Own-child</td>\n",
       "      <td>Black</td>\n",
       "      <td>Male</td>\n",
       "      <td>(79128.0, 99999.0]</td>\n",
       "      <td>(0.902, 20.6]</td>\n",
       "      <td>0.0</td>\n",
       "      <td>0.7</td>\n",
       "      <td>3</td>\n",
       "      <td>0.0</td>\n",
       "    </tr>\n",
       "    <tr>\n",
       "      <th>124</th>\n",
       "      <td>(16.927, 31.6]</td>\n",
       "      <td>Self-emp-inc</td>\n",
       "      <td>11th</td>\n",
       "      <td>Never-married</td>\n",
       "      <td>Adm-clerical</td>\n",
       "      <td>Own-child</td>\n",
       "      <td>Black</td>\n",
       "      <td>Male</td>\n",
       "      <td>(58257.0, 79128.0]</td>\n",
       "      <td>(0.902, 20.6]</td>\n",
       "      <td>0.0</td>\n",
       "      <td>0.7</td>\n",
       "      <td>3</td>\n",
       "      <td>0.0</td>\n",
       "    </tr>\n",
       "    <tr>\n",
       "      <th>173</th>\n",
       "      <td>(16.927, 31.6]</td>\n",
       "      <td>Private</td>\n",
       "      <td>11th</td>\n",
       "      <td>Never-married</td>\n",
       "      <td>Priv-house-serv</td>\n",
       "      <td>Own-child</td>\n",
       "      <td>Black</td>\n",
       "      <td>Male</td>\n",
       "      <td>(79128.0, 99999.0]</td>\n",
       "      <td>(0.902, 20.6]</td>\n",
       "      <td>0.0</td>\n",
       "      <td>0.7</td>\n",
       "      <td>3</td>\n",
       "      <td>0.0</td>\n",
       "    </tr>\n",
       "    <tr>\n",
       "      <th>139</th>\n",
       "      <td>(16.927, 31.6]</td>\n",
       "      <td>Self-emp-inc</td>\n",
       "      <td>11th</td>\n",
       "      <td>Never-married</td>\n",
       "      <td>Priv-house-serv</td>\n",
       "      <td>Own-child</td>\n",
       "      <td>Black</td>\n",
       "      <td>Male</td>\n",
       "      <td>(79128.0, 99999.0]</td>\n",
       "      <td>(0.902, 20.6]</td>\n",
       "      <td>0.0</td>\n",
       "      <td>0.6</td>\n",
       "      <td>4</td>\n",
       "      <td>0.0</td>\n",
       "    </tr>\n",
       "  </tbody>\n",
       "</table>\n",
       "</div>"
      ],
      "text/plain": [
       "                age     workclass education marital-status       occupation  \\\n",
       "102  (16.927, 31.6]       Private      11th  Never-married     Adm-clerical   \n",
       "126  (16.927, 31.6]       Private      11th  Never-married     Adm-clerical   \n",
       "123  (16.927, 31.6]       Private      11th  Never-married  Priv-house-serv   \n",
       "124  (16.927, 31.6]  Self-emp-inc      11th  Never-married     Adm-clerical   \n",
       "173  (16.927, 31.6]       Private      11th  Never-married  Priv-house-serv   \n",
       "139  (16.927, 31.6]  Self-emp-inc      11th  Never-married  Priv-house-serv   \n",
       "\n",
       "    relationship   race gender        capital-gain hours-per-week   O1   O2  \\\n",
       "102    Own-child  Black   Male  (58257.0, 79128.0]  (0.902, 20.6]  0.0  0.8   \n",
       "126    Own-child  Black   Male  (79128.0, 99999.0]  (0.902, 20.6]  0.0  0.8   \n",
       "123    Own-child  Black   Male  (79128.0, 99999.0]  (0.902, 20.6]  0.0  0.7   \n",
       "124    Own-child  Black   Male  (58257.0, 79128.0]  (0.902, 20.6]  0.0  0.7   \n",
       "173    Own-child  Black   Male  (79128.0, 99999.0]  (0.902, 20.6]  0.0  0.7   \n",
       "139    Own-child  Black   Male  (79128.0, 99999.0]  (0.902, 20.6]  0.0  0.6   \n",
       "\n",
       "     O3   O4  \n",
       "102   2  0.0  \n",
       "126   2  0.0  \n",
       "123   3  0.0  \n",
       "124   3  0.0  \n",
       "173   3  0.0  \n",
       "139   4  0.0  "
      ]
     },
     "execution_count": 4,
     "metadata": {},
     "output_type": "execute_result"
    }
   ],
   "source": [
    "R[\n",
    "    (R['O1'] <= 0.5)\n",
    "].sort_values(['O1', 'O3'])"
   ]
  },
  {
   "cell_type": "markdown",
   "metadata": {},
   "source": [
    "## Naive Bayes Without Sensitive, Black Female Low Income"
   ]
  },
  {
   "cell_type": "code",
   "execution_count": 5,
   "metadata": {},
   "outputs": [
    {
     "name": "stderr",
     "output_type": "stream",
     "text": [
      "/home/bcwein/anaconda3/envs/forseti/lib/python3.7/site-packages/pgmpy/factors/discrete/DiscreteFactor.py:537: UserWarning: Found unknown state name. Trying to switch to using all state names as state numbers\n",
      "  UserWarning,\n",
      "/home/bcwein/anaconda3/envs/forseti/lib/python3.7/site-packages/pgmpy/factors/discrete/DiscreteFactor.py:472: RuntimeWarning: invalid value encountered in true_divide\n",
      "  phi.values = phi.values / phi.values.sum()\n"
     ]
    }
   ],
   "source": [
    "df = pd.read_csv(\"data/adult.csv\")\n",
    "\n",
    "clf = interpretableNaiveBayes()\n",
    "\n",
    "tmp = df.copy(deep=True)\n",
    "label = \"income\"\n",
    "df[['race', 'gender']] = np.random.permutation(df[['race', 'gender']])\n",
    "clf.train(label, df, \"NB\")\n",
    "tmp, _ = translate_categorical(tmp)\n",
    "tmp = tmp.drop(label, axis=1)\n",
    "\n",
    "datapoint = pd.DataFrame(tmp.iloc[idx]).T\n",
    "datapoint, R = clf.generateCounterfactuals(datapoint, candidates=100, gen=5)"
   ]
  },
  {
   "cell_type": "markdown",
   "metadata": {},
   "source": [
    "## Show the datapoint"
   ]
  },
  {
   "cell_type": "code",
   "execution_count": null,
   "metadata": {},
   "outputs": [],
   "source": [
    "datapoint"
   ]
  },
  {
   "cell_type": "markdown",
   "metadata": {},
   "source": [
    "## Show the counterfactuals"
   ]
  },
  {
   "cell_type": "code",
   "execution_count": null,
   "metadata": {},
   "outputs": [],
   "source": [
    "R[\n",
    "    (R['O1'] <= 0.5)\n",
    "].sort_values(['O1', 'O3'])"
   ]
  },
  {
   "cell_type": "markdown",
   "metadata": {},
   "source": [
    "## Fair Bayesian Network"
   ]
  },
  {
   "cell_type": "code",
   "execution_count": null,
   "metadata": {},
   "outputs": [],
   "source": [
    "df = pd.read_csv(\"data/adult.csv\")\n",
    "tmp = df.copy(deep=True)\n",
    "tmp, _ = translate_categorical(tmp)\n",
    "tmp = tmp.drop(label, axis=1)\n",
    "label = \"income\"\n",
    "sensitives = ['gender', 'race']\n",
    "\n",
    "clf = latentLabelClassifier(\n",
    "    df, \n",
    "    sensitives, \n",
    "    label\n",
    ")\n",
    "\n",
    "datapoint = pd.DataFrame(tmp.iloc[idx]).T\n",
    "clf.load('trained-models/fair_model.sav')\n",
    "datapoint, R = clf.generateCounterfactuals(datapoint, candidates=100, gen=5)"
   ]
  },
  {
   "cell_type": "markdown",
   "metadata": {},
   "source": [
    "## Show the datapoint"
   ]
  },
  {
   "cell_type": "code",
   "execution_count": null,
   "metadata": {},
   "outputs": [],
   "source": [
    "datapoint"
   ]
  },
  {
   "cell_type": "markdown",
   "metadata": {},
   "source": [
    "## Show the counterfactuals"
   ]
  },
  {
   "cell_type": "code",
   "execution_count": null,
   "metadata": {},
   "outputs": [],
   "source": [
    "R.sort_values(['O1', 'O3'])"
   ]
  }
 ],
 "metadata": {
  "interpreter": {
   "hash": "c3d815725cc6a6fa8228024c74f3070b3b15922f57a0d1a0d80cc97f69923cf0"
  },
  "kernelspec": {
   "display_name": "Python 3.7.12 ('forseti')",
   "language": "python",
   "name": "python3"
  },
  "language_info": {
   "codemirror_mode": {
    "name": "ipython",
    "version": 3
   },
   "file_extension": ".py",
   "mimetype": "text/x-python",
   "name": "python",
   "nbconvert_exporter": "python",
   "pygments_lexer": "ipython3",
   "version": "3.7.12"
  },
  "orig_nbformat": 4
 },
 "nbformat": 4,
 "nbformat_minor": 2
}
