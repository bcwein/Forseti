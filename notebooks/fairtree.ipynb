{
 "cells": [
  {
   "cell_type": "markdown",
   "metadata": {},
   "source": [
    "# Fair Tree Classifier\n",
    "\n",
    "In this notebook, we want to train a fair decision tree implemented by \n",
    "Barata, A. P., Takes, F. W., van den Herik, H. J., & Veenman, C. J.\n",
    "\n",
    "in their papar *Fair Tree Classifier using Strong Demographic Parity.*\n",
    "\n",
    "They have provided code for their classifier which is added to Forseti."
   ]
  },
  {
   "cell_type": "code",
   "execution_count": 16,
   "metadata": {},
   "outputs": [],
   "source": [
    "import sys\n",
    "import os\n",
    "import pandas as pd\n",
    "from sklearn.model_selection import train_test_split\n",
    "from sklearn.preprocessing import OneHotEncoder\n",
    "import pickle\n",
    "\n",
    "module_path = os.path.abspath(os.path.join(\"..\"))\n",
    "if module_path not in sys.path:\n",
    "    sys.path.append(module_path)\n",
    "\n",
    "from forseti.tree import FairRandomForestClassifier, sns_auc_score\n",
    "from forseti.datproc import translate_categorical, extract_sensitive\n",
    "from forseti.fairness import parity_score, fairness_report\n",
    "\n",
    "tmp = pd.read_csv('data/adult.csv')\n",
    "data, codes = translate_categorical(tmp.copy(deep=True))\n",
    "sensitive_attributes = ['race', 'gender']\n",
    "sensitive, features = extract_sensitive(data, sensitive_attributes)\n",
    "label = 'income'\n",
    "\n",
    "y = features[label]\n",
    "s = sensitive\n",
    "X = tmp[features.columns].drop(label, axis=1)\n",
    "\n",
    "# One-Hot encode the sensitive attributes\n",
    "encoder = OneHotEncoder(handle_unknown='ignore')\n",
    "encode_df = pd.DataFrame(encoder.fit_transform(s[['race']]).toarray()).astype('int')\n",
    "\n",
    "names = {}\n",
    "for col in encode_df.columns:\n",
    "    names[col] = 'Race_' + codes['race'][col]\n",
    "\n",
    "encode_df = encode_df.rename(names, axis=1)\n",
    "\n",
    "# Merge the sensitive dataframe\n",
    "s = s.join(encode_df).drop('race', axis=1)"
   ]
  },
  {
   "cell_type": "markdown",
   "metadata": {},
   "source": [
    "## Adult Dataset: Train Classifier and Experiments."
   ]
  },
  {
   "cell_type": "code",
   "execution_count": 18,
   "metadata": {},
   "outputs": [],
   "source": [
    "X_train, X_test = X[:30000], X[30000:]\n",
    "y_train, y_test = y[:30000], y[30000:]\n",
    "s_train, s_test = s[:30000], y[30000:]\n",
    "\n",
    "orthogonalities = [\n",
    "    0.3,\n",
    "    0.5,\n",
    "    0.7\n",
    "]\n",
    "\n",
    "for orth in orthogonalities:\n",
    "    clf = FairRandomForestClassifier(\n",
    "        max_depth=5,\n",
    "        orthogonality=orth\n",
    "    )\n",
    "\n",
    "    clf.fit(X_train, y_train, s_train)\n",
    "    y_pred_prob = clf.predict_proba(X_test)[:, 1]\n",
    "    y_pred_prob = pd.DataFrame(y_pred_prob)\n",
    "    y_pred = pd.DataFrame(clf.predict(X_test))\n",
    "    y_pred.index = X_test.index \n",
    "\n",
    "    y_pred_prob.to_csv('results/pred_adult_prob_FRFC_' + str(orth) + '.csv')\n",
    "    y_pred.to_csv('results/pred_adult_FRFC_' + str(orth) + '.csv')\n",
    "    pickle.dump(clf, open('trained-models/Adult_FRFC_' + str(orth) +'.sav', \"wb\"))"
   ]
  },
  {
   "cell_type": "markdown",
   "metadata": {},
   "source": [
    "## Compas Dataset"
   ]
  },
  {
   "cell_type": "code",
   "execution_count": 33,
   "metadata": {},
   "outputs": [
    {
     "name": "stderr",
     "output_type": "stream",
     "text": [
      "/home/bcwein/anaconda3/envs/forseti/lib/python3.7/site-packages/ipykernel_launcher.py:16: SettingWithCopyWarning: \n",
      "A value is trying to be set on a copy of a slice from a DataFrame.\n",
      "Try using .loc[row_indexer,col_indexer] = value instead\n",
      "\n",
      "See the caveats in the documentation: https://pandas.pydata.org/pandas-docs/stable/user_guide/indexing.html#returning-a-view-versus-a-copy\n",
      "  app.launch_new_instance()\n"
     ]
    }
   ],
   "source": [
    "scores = pd.read_csv('data/compas-two-yrs-recidivism.csv')\n",
    "attr = [\n",
    "    'sex',\n",
    "    'age',\n",
    "    'race',\n",
    "    'priors_count',\n",
    "    'juv_fel_count',\n",
    "    'juv_misd_count',\n",
    "    'juv_other_count',\n",
    "    'c_charge_degree',\n",
    "    'two_year_recid'\n",
    "]\n",
    "\n",
    "\n",
    "tmp = scores[attr]\n",
    "tmp['two_year_recid'] = tmp['two_year_recid'].astype('category')\n",
    "\n",
    "data, codes = translate_categorical(tmp.copy(deep=True))\n",
    "sensitive_attributes = ['sex', 'race']\n",
    "sensitive, features = extract_sensitive(data, sensitive_attributes)\n",
    "label = 'two_year_recid'\n",
    "\n",
    "y = features[label]\n",
    "s = sensitive\n",
    "X = tmp[features.columns].drop(label, axis=1)\n",
    "\n",
    "# One-Hot encode the sensitive attributes\n",
    "encoder = OneHotEncoder(handle_unknown='ignore')\n",
    "encode_df = pd.DataFrame(encoder.fit_transform(s[['race']]).toarray()).astype('int')\n",
    "\n",
    "names = {}\n",
    "for col in encode_df.columns:\n",
    "    names[col] = 'Race_' + codes['race'][col]\n",
    "\n",
    "encode_df = encode_df.rename(names, axis=1)\n",
    "\n",
    "# Merge the sensitive dataframe\n",
    "s = s.join(encode_df).drop('race', axis=1)"
   ]
  },
  {
   "cell_type": "markdown",
   "metadata": {},
   "source": [
    "## Compas Dataset: Train Classifier and Experiments."
   ]
  },
  {
   "cell_type": "code",
   "execution_count": 32,
   "metadata": {},
   "outputs": [],
   "source": [
    "X_train, X_test = X[:6000], X[6000:]\n",
    "y_train, y_test = y[:6000], y[6000:]\n",
    "s_train, s_test = s[:6000], y[6000:]\n",
    "\n",
    "orthogonalities = [\n",
    "    0.3,\n",
    "    0.5,\n",
    "    0.7\n",
    "]\n",
    "\n",
    "for orth in orthogonalities:\n",
    "    clf = FairRandomForestClassifier(\n",
    "        max_depth=5,\n",
    "        orthogonality=orth\n",
    "    )\n",
    "\n",
    "    clf.fit(X_train, y_train, s_train)\n",
    "    y_pred_prob = clf.predict_proba(X_test)[:, 1]\n",
    "    y_pred_prob = pd.DataFrame(y_pred_prob)\n",
    "    y_pred = pd.DataFrame(clf.predict(X_test))\n",
    "    y_pred.index = X_test.index\n",
    "    y_pred_prob.index = X_test.index\n",
    "\n",
    "    y_pred_prob.to_csv('results/pred_compas_prob_FRFC_' + str(orth) + '.csv')\n",
    "    y_pred.to_csv('results/pred_compas_FRFC_' + str(orth) + '.csv')\n",
    "    pickle.dump(clf, open('trained-models/Compas_FRFC_' + str(orth) +'.sav', \"wb\"))"
   ]
  }
 ],
 "metadata": {
  "interpreter": {
   "hash": "c3d815725cc6a6fa8228024c74f3070b3b15922f57a0d1a0d80cc97f69923cf0"
  },
  "kernelspec": {
   "display_name": "Python 3.7.12 ('forseti')",
   "language": "python",
   "name": "python3"
  },
  "language_info": {
   "codemirror_mode": {
    "name": "ipython",
    "version": 3
   },
   "file_extension": ".py",
   "mimetype": "text/x-python",
   "name": "python",
   "nbconvert_exporter": "python",
   "pygments_lexer": "ipython3",
   "version": "3.7.12"
  },
  "orig_nbformat": 4
 },
 "nbformat": 4,
 "nbformat_minor": 2
}
