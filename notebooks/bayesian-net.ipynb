{
 "cells": [
  {
   "cell_type": "markdown",
   "metadata": {},
   "source": [
    "# Fair Bayesian Network Implementation\n",
    "\n",
    "In this notebook, a fair bayesian network implementation is performed.\n",
    "\n",
    "## Imports"
   ]
  },
  {
   "cell_type": "code",
   "execution_count": 25,
   "metadata": {},
   "outputs": [],
   "source": [
    "import pandas as pd\n",
    "import sys\n",
    "import os\n",
    "from sklearn.preprocessing import LabelEncoder\n",
    "from sklearn.metrics import f1_score, balanced_accuracy_score, roc_curve\n",
    "import matplotlib.pyplot as plt\n",
    "pd.set_option('display.float_format', lambda x: '%.5f' % x)\n",
    "label_encoder = LabelEncoder()\n",
    "\n",
    "module_path = os.path.abspath(os.path.join(\"..\"))\n",
    "if module_path not in sys.path:\n",
    "    sys.path.append(module_path)\n",
    "\n",
    "from forseti.datproc import translate_categorical\n",
    "from forseti.bayesnet import latentLabelClassifier"
   ]
  },
  {
   "cell_type": "markdown",
   "metadata": {},
   "source": [
    "## Clean Data and Train Bayesian Network"
   ]
  },
  {
   "cell_type": "code",
   "execution_count": 27,
   "metadata": {},
   "outputs": [],
   "source": [
    "df = pd.read_csv('data/adult.csv')\n",
    "sensitives = ['gender', 'race']\n",
    "label = 'income'\n",
    "\n",
    "train = df[:30000]\n",
    "test = df[30000:]\n",
    "\n",
    "clf = latentLabelClassifier(\n",
    "    train,\n",
    "    sensitives,\n",
    "    label,\n",
    "    atol=0.01\n",
    ")\n",
    "\n",
    "clf.load('trained-models/fair_model_30000.sav')"
   ]
  },
  {
   "cell_type": "markdown",
   "metadata": {},
   "source": [
    "## Predict on new data"
   ]
  },
  {
   "cell_type": "code",
   "execution_count": 4,
   "metadata": {},
   "outputs": [
    {
     "name": "stderr",
     "output_type": "stream",
     "text": [
      "c:\\gits\\Forseti\\forseti\\datproc.py:18: SettingWithCopyWarning: \n",
      "A value is trying to be set on a copy of a slice from a DataFrame.\n",
      "Try using .loc[row_indexer,col_indexer] = value instead\n",
      "\n",
      "See the caveats in the documentation: https://pandas.pydata.org/pandas-docs/stable/user_guide/indexing.html#returning-a-view-versus-a-copy\n",
      "  dataframe[obj] = dataframe[obj].astype('category')\n",
      "c:\\gits\\Forseti\\forseti\\datproc.py:18: SettingWithCopyWarning: \n",
      "A value is trying to be set on a copy of a slice from a DataFrame.\n",
      "Try using .loc[row_indexer,col_indexer] = value instead\n",
      "\n",
      "See the caveats in the documentation: https://pandas.pydata.org/pandas-docs/stable/user_guide/indexing.html#returning-a-view-versus-a-copy\n",
      "  dataframe[obj] = dataframe[obj].astype('category')\n",
      "c:\\gits\\Forseti\\forseti\\datproc.py:18: SettingWithCopyWarning: \n",
      "A value is trying to be set on a copy of a slice from a DataFrame.\n",
      "Try using .loc[row_indexer,col_indexer] = value instead\n",
      "\n",
      "See the caveats in the documentation: https://pandas.pydata.org/pandas-docs/stable/user_guide/indexing.html#returning-a-view-versus-a-copy\n",
      "  dataframe[obj] = dataframe[obj].astype('category')\n",
      "c:\\gits\\Forseti\\forseti\\datproc.py:18: SettingWithCopyWarning: \n",
      "A value is trying to be set on a copy of a slice from a DataFrame.\n",
      "Try using .loc[row_indexer,col_indexer] = value instead\n",
      "\n",
      "See the caveats in the documentation: https://pandas.pydata.org/pandas-docs/stable/user_guide/indexing.html#returning-a-view-versus-a-copy\n",
      "  dataframe[obj] = dataframe[obj].astype('category')\n",
      "c:\\gits\\Forseti\\forseti\\datproc.py:18: SettingWithCopyWarning: \n",
      "A value is trying to be set on a copy of a slice from a DataFrame.\n",
      "Try using .loc[row_indexer,col_indexer] = value instead\n",
      "\n",
      "See the caveats in the documentation: https://pandas.pydata.org/pandas-docs/stable/user_guide/indexing.html#returning-a-view-versus-a-copy\n",
      "  dataframe[obj] = dataframe[obj].astype('category')\n",
      "c:\\gits\\Forseti\\forseti\\datproc.py:18: SettingWithCopyWarning: \n",
      "A value is trying to be set on a copy of a slice from a DataFrame.\n",
      "Try using .loc[row_indexer,col_indexer] = value instead\n",
      "\n",
      "See the caveats in the documentation: https://pandas.pydata.org/pandas-docs/stable/user_guide/indexing.html#returning-a-view-versus-a-copy\n",
      "  dataframe[obj] = dataframe[obj].astype('category')\n",
      "c:\\gits\\Forseti\\forseti\\datproc.py:18: SettingWithCopyWarning: \n",
      "A value is trying to be set on a copy of a slice from a DataFrame.\n",
      "Try using .loc[row_indexer,col_indexer] = value instead\n",
      "\n",
      "See the caveats in the documentation: https://pandas.pydata.org/pandas-docs/stable/user_guide/indexing.html#returning-a-view-versus-a-copy\n",
      "  dataframe[obj] = dataframe[obj].astype('category')\n",
      "c:\\gits\\Forseti\\forseti\\datproc.py:18: SettingWithCopyWarning: \n",
      "A value is trying to be set on a copy of a slice from a DataFrame.\n",
      "Try using .loc[row_indexer,col_indexer] = value instead\n",
      "\n",
      "See the caveats in the documentation: https://pandas.pydata.org/pandas-docs/stable/user_guide/indexing.html#returning-a-view-versus-a-copy\n",
      "  dataframe[obj] = dataframe[obj].astype('category')\n",
      "c:\\gits\\Forseti\\forseti\\datproc.py:23: SettingWithCopyWarning: \n",
      "A value is trying to be set on a copy of a slice from a DataFrame.\n",
      "Try using .loc[row_indexer,col_indexer] = value instead\n",
      "\n",
      "See the caveats in the documentation: https://pandas.pydata.org/pandas-docs/stable/user_guide/indexing.html#returning-a-view-versus-a-copy\n",
      "  dataframe[num] = pd.qcut(dataframe[num], 5, duplicates='drop')\n",
      "c:\\gits\\Forseti\\forseti\\datproc.py:23: SettingWithCopyWarning: \n",
      "A value is trying to be set on a copy of a slice from a DataFrame.\n",
      "Try using .loc[row_indexer,col_indexer] = value instead\n",
      "\n",
      "See the caveats in the documentation: https://pandas.pydata.org/pandas-docs/stable/user_guide/indexing.html#returning-a-view-versus-a-copy\n",
      "  dataframe[num] = pd.qcut(dataframe[num], 5, duplicates='drop')\n",
      "c:\\gits\\Forseti\\forseti\\datproc.py:23: SettingWithCopyWarning: \n",
      "A value is trying to be set on a copy of a slice from a DataFrame.\n",
      "Try using .loc[row_indexer,col_indexer] = value instead\n",
      "\n",
      "See the caveats in the documentation: https://pandas.pydata.org/pandas-docs/stable/user_guide/indexing.html#returning-a-view-versus-a-copy\n",
      "  dataframe[num] = pd.qcut(dataframe[num], 5, duplicates='drop')\n",
      "c:\\gits\\Forseti\\forseti\\datproc.py:29: SettingWithCopyWarning: \n",
      "A value is trying to be set on a copy of a slice from a DataFrame.\n",
      "Try using .loc[row_indexer,col_indexer] = value instead\n",
      "\n",
      "See the caveats in the documentation: https://pandas.pydata.org/pandas-docs/stable/user_guide/indexing.html#returning-a-view-versus-a-copy\n",
      "  dataframe[cat] = dataframe[cat].astype(\"category\")\n",
      "c:\\gits\\Forseti\\forseti\\datproc.py:31: SettingWithCopyWarning: \n",
      "A value is trying to be set on a copy of a slice from a DataFrame.\n",
      "Try using .loc[row_indexer,col_indexer] = value instead\n",
      "\n",
      "See the caveats in the documentation: https://pandas.pydata.org/pandas-docs/stable/user_guide/indexing.html#returning-a-view-versus-a-copy\n",
      "  dataframe[cat] = dataframe[cat].cat.codes\n"
     ]
    }
   ],
   "source": [
    "tmp, _ = translate_categorical(test);\n",
    "y = tmp['income'];\n",
    "tmp = tmp.drop('income', axis=1);"
   ]
  },
  {
   "cell_type": "code",
   "execution_count": null,
   "metadata": {},
   "outputs": [],
   "source": [
    "y_pred = clf.predict_probability(tmp)\n",
    "\n",
    "# Replace NA with prior prediction\n",
    "naindexes = y_pred.isna().any(axis=1)\n",
    "y_pred[naindexes] = 0\n",
    "y_pred.to_csv('results/y_pred_probability.csv')"
   ]
  },
  {
   "cell_type": "markdown",
   "metadata": {},
   "source": [
    "## Save Predictions to File"
   ]
  },
  {
   "cell_type": "code",
   "execution_count": 79,
   "metadata": {},
   "outputs": [],
   "source": [
    "y_pred_label_fair = (y_pred['fair_0'] >= 0.5).astype('int')\n",
    "y_pred_label_fair.to_csv('results/y_pred_label_fair.csv')\n",
    "\n",
    "y_pred_label_fair = (y_pred['income_1'] >= 0.5).astype('int')\n",
    "y_pred_label_fair.to_csv('results/y_pred_label_income.csv')"
   ]
  },
  {
   "cell_type": "markdown",
   "metadata": {},
   "source": [
    "# Naive Bayes with sensitive attributes"
   ]
  },
  {
   "cell_type": "code",
   "execution_count": 10,
   "metadata": {},
   "outputs": [],
   "source": [
    "tmp_train, codes_train = translate_categorical(train.copy(deep=True))\n",
    "\n",
    "from pgmpy.models import NaiveBayes\n",
    "\n",
    "model = NaiveBayes()\n",
    "model.fit(tmp_train, 'income')"
   ]
  },
  {
   "cell_type": "markdown",
   "metadata": {},
   "source": [
    "## Predict and save predictions"
   ]
  },
  {
   "cell_type": "code",
   "execution_count": 15,
   "metadata": {},
   "outputs": [
    {
     "name": "stderr",
     "output_type": "stream",
     "text": [
      "100%|██████████| 10925/10925 [02:03<00:00, 88.56it/s] \n",
      "C:\\tools\\Anaconda3\\envs\\forseti\\lib\\site-packages\\pgmpy\\models\\BayesianNetwork.py:744: FutureWarning: Passing a set as an indexer is deprecated and will raise in a future version. Use a list instead.\n",
      "  return data.merge(data_with_results, how=\"left\").loc[:, missing_variables]\n"
     ]
    }
   ],
   "source": [
    "y_pred_naive = model.predict(tmp)\n",
    "y_pred_naive.to_csv('results/y_pred_label_naive_bayes_sensitive.csv')\n",
    "y_pred_prob_naive = model.predict_probability(tmp)\n",
    "y_pred_prob_naive.to_csv('results/y_pred_probability_naive_bayes_sensitive.csv')"
   ]
  },
  {
   "cell_type": "markdown",
   "metadata": {},
   "source": [
    "# Naive Bayes without sensitive attributes"
   ]
  },
  {
   "cell_type": "code",
   "execution_count": 26,
   "metadata": {},
   "outputs": [],
   "source": [
    "tmp_train, codes_train = translate_categorical(train.copy(deep=True))\n",
    "tmp_train = tmp_train.drop(sensitives, axis=1)\n",
    "\n",
    "from pgmpy.models import NaiveBayes\n",
    "\n",
    "model = NaiveBayes()\n",
    "model.fit(tmp_train, 'income')"
   ]
  },
  {
   "cell_type": "markdown",
   "metadata": {},
   "source": [
    "## Predict and save predictions"
   ]
  },
  {
   "cell_type": "code",
   "execution_count": 28,
   "metadata": {},
   "outputs": [
    {
     "name": "stderr",
     "output_type": "stream",
     "text": [
      "100%|██████████| 9195/9195 [01:08<00:00, 134.10it/s]\n",
      "C:\\tools\\Anaconda3\\envs\\forseti\\lib\\site-packages\\pgmpy\\models\\BayesianNetwork.py:744: FutureWarning: Passing a set as an indexer is deprecated and will raise in a future version. Use a list instead.\n",
      "  return data.merge(data_with_results, how=\"left\").loc[:, missing_variables]\n"
     ]
    }
   ],
   "source": [
    "tmp = tmp.drop(sensitives, axis=1)\n",
    "y_pred_naive = model.predict(tmp)\n",
    "y_pred_naive.to_csv('results/y_pred_label_naive_bayes.csv')\n",
    "y_pred_prob_naive = model.predict_probability(tmp)\n",
    "y_pred_prob_naive.to_csv('results/y_pred_probability_naive_bayes.csv')"
   ]
  }
 ],
 "metadata": {
  "interpreter": {
   "hash": "dd29c087e73fa7375bf1e02101747c62c69b10311acdbd79d0623f1fb832c9d1"
  },
  "kernelspec": {
   "display_name": "Python 3.8.12 ('forseti')",
   "language": "python",
   "name": "python3"
  },
  "language_info": {
   "codemirror_mode": {
    "name": "ipython",
    "version": 3
   },
   "file_extension": ".py",
   "mimetype": "text/x-python",
   "name": "python",
   "nbconvert_exporter": "python",
   "pygments_lexer": "ipython3",
   "version": "3.8.12"
  },
  "orig_nbformat": 4
 },
 "nbformat": 4,
 "nbformat_minor": 2
}
