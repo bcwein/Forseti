{
 "cells": [
  {
   "cell_type": "markdown",
   "metadata": {},
   "source": [
    "# Fair Bayesian Network Implementation\n",
    "\n",
    "In this notebook, a fair bayesian network implementation is performed.\n",
    "\n",
    "## Imports"
   ]
  },
  {
   "cell_type": "code",
   "execution_count": null,
   "metadata": {},
   "outputs": [],
   "source": [
    "import pandas as pd\n",
    "import sys\n",
    "import os\n",
    "from sklearn.preprocessing import LabelEncoder\n",
    "from sklearn.metrics import f1_score, balanced_accuracy_score, roc_curve\n",
    "import matplotlib.pyplot as plt\n",
    "pd.set_option('display.float_format', lambda x: '%.5f' % x)\n",
    "label_encoder = LabelEncoder()\n",
    "\n",
    "module_path = os.path.abspath(os.path.join(\"..\"))\n",
    "if module_path not in sys.path:\n",
    "    sys.path.append(module_path)\n",
    "\n",
    "from forseti.datproc import translate_categorical\n",
    "from forseti.bayesnet import latentLabelClassifier"
   ]
  },
  {
   "cell_type": "markdown",
   "metadata": {},
   "source": [
    "## Clean Data and Train Bayesian Network"
   ]
  },
  {
   "cell_type": "code",
   "execution_count": null,
   "metadata": {},
   "outputs": [],
   "source": [
    "df = pd.read_csv('data/adult.csv')\n",
    "sensitives = ['gender', 'race']\n",
    "label = 'income'\n",
    "\n",
    "train = df[:30000]\n",
    "test = df[30000:]\n",
    "\n",
    "clf = latentLabelClassifier(\n",
    "    train,\n",
    "    sensitives,\n",
    "    label,\n",
    "    atol=0.01,\n",
    "    classes=2\n",
    ")\n",
    "\n",
    "clf.load('trained-models/fair_model_30000.sav')"
   ]
  },
  {
   "cell_type": "markdown",
   "metadata": {},
   "source": [
    "## Predict on new data"
   ]
  },
  {
   "cell_type": "code",
   "execution_count": null,
   "metadata": {},
   "outputs": [],
   "source": [
    "tmp, _ = translate_categorical(test);\n",
    "y = tmp['income'];\n",
    "tmp = tmp.drop('income', axis=1);"
   ]
  },
  {
   "cell_type": "code",
   "execution_count": null,
   "metadata": {},
   "outputs": [],
   "source": [
    "y_pred = clf.predict_probability(tmp)\n",
    "\n",
    "# Replace NA with prior prediction\n",
    "naindexes = y_pred.isna().any(axis=1)\n",
    "y_pred[naindexes] = 0\n",
    "y_pred.to_csv('results/y_pred.csv')"
   ]
  },
  {
   "cell_type": "markdown",
   "metadata": {},
   "source": [
    "## Plot ROC curve "
   ]
  },
  {
   "cell_type": "code",
   "execution_count": null,
   "metadata": {},
   "outputs": [],
   "source": [
    "fpr_fair, tpr_fair, _ = roc_curve(y,  y_pred['fair_0'])\n",
    "fpr_income, tpr_income, _ = roc_curve(y,  y_pred['income_1'])\n",
    "\n",
    "#create ROC curve\n",
    "plt.plot(fpr_fair, tpr_fair, label='fairBN')\n",
    "plt.plot(fpr_income, tpr_income, label='incomeBN')\n",
    "plt.ylabel('True Positive Rate')\n",
    "plt.xlabel('False Positive Rate')\n",
    "plt.axline((1, 1), slope=1, ls=\"--\")\n",
    "plt.legend()\n",
    "plt.show()"
   ]
  }
 ],
 "metadata": {
  "interpreter": {
   "hash": "dd29c087e73fa7375bf1e02101747c62c69b10311acdbd79d0623f1fb832c9d1"
  },
  "kernelspec": {
   "display_name": "Python 3.8.12 ('forseti')",
   "language": "python",
   "name": "python3"
  },
  "language_info": {
   "codemirror_mode": {
    "name": "ipython",
    "version": 3
   },
   "file_extension": ".py",
   "mimetype": "text/x-python",
   "name": "python",
   "nbconvert_exporter": "python",
   "pygments_lexer": "ipython3",
   "version": "3.8.12"
  },
  "orig_nbformat": 4
 },
 "nbformat": 4,
 "nbformat_minor": 2
}
