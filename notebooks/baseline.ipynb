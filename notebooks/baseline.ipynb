{
 "cells": [
  {
   "cell_type": "code",
   "execution_count": 1,
   "metadata": {},
   "outputs": [
    {
     "name": "stderr",
     "output_type": "stream",
     "text": [
      "WARNING (theano.tensor.blas): Using NumPy C-API based implementation for BLAS functions.\n"
     ]
    }
   ],
   "source": [
    "# %% Import\n",
    "import pandas as pd\n",
    "import sys\n",
    "import os\n",
    "import pymc3 as pm\n",
    "import theano.tensor as tt\n",
    "import arviz as az\n",
    "\n",
    "module_path = os.path.abspath(os.path.join(\"..\"))\n",
    "if module_path not in sys.path:\n",
    "    sys.path.append(module_path)\n",
    "\n",
    "from forseti.datproc import translate_categorical, extract_sensitive\n"
   ]
  },
  {
   "cell_type": "code",
   "execution_count": 2,
   "metadata": {},
   "outputs": [],
   "source": [
    "# %% Translate Categorical Attributes\n",
    "df = pd.read_csv('data/adult.csv')\n",
    "tmp, codes = translate_categorical(df)"
   ]
  },
  {
   "cell_type": "code",
   "execution_count": 3,
   "metadata": {},
   "outputs": [],
   "source": [
    "# %% Extract sensitive attributes\n",
    "sensattr = ['gender', 'race']\n",
    "sensitive, features = extract_sensitive(tmp, sensattr)"
   ]
  },
  {
   "cell_type": "code",
   "execution_count": 4,
   "metadata": {},
   "outputs": [],
   "source": [
    "y = features['income']\n",
    "X = features.drop(['income', 'fnlwgt'], axis=1)"
   ]
  },
  {
   "cell_type": "code",
   "execution_count": 19,
   "metadata": {},
   "outputs": [
    {
     "data": {
      "text/plain": [
       "0     0\n",
       "1     0\n",
       "2     1\n",
       "3     1\n",
       "4     0\n",
       "     ..\n",
       "95    0\n",
       "96    0\n",
       "97    0\n",
       "98    1\n",
       "99    0\n",
       "Name: income, Length: 100, dtype: int8"
      ]
     },
     "execution_count": 19,
     "metadata": {},
     "output_type": "execute_result"
    }
   ],
   "source": [
    "y[:100]"
   ]
  },
  {
   "cell_type": "code",
   "execution_count": 21,
   "metadata": {},
   "outputs": [
    {
     "name": "stderr",
     "output_type": "stream",
     "text": [
      "ERROR (theano.graph.opt): Optimization failure due to: LocalOptGroup(local_useless_fill,local_useless_alloc,local_subtensor_make_vector,local_useless_elemwise,local_useless_inc_subtensor,local_useless_slice,local_subtensor_of_alloc,local_useless_inc_subtensor_alloc,local_useless_rebroadcast,local_join_1,local_join_empty,local_join_make_vector,local_useless_switch,local_useless_tile,local_useless_split,local_useless_reshape,local_useless_elemwise_comparison,local_useless_reduce,local_view_op,local_merge_alloc,local_useless_topk)\n",
      "ERROR (theano.graph.opt): node: ViewOp(Elemwise{Cast{int64}}.0)\n",
      "ERROR (theano.graph.opt): TRACEBACK:\n",
      "ERROR (theano.graph.opt): Traceback (most recent call last):\n",
      "  File \"C:\\tools\\Anaconda3\\envs\\forseti\\lib\\site-packages\\theano\\graph\\opt.py\", line 2060, in process_node\n",
      "    fgraph.replace_all_validate_remove(repl_pairs, reason=lopt, remove=remove)\n",
      "  File \"C:\\tools\\Anaconda3\\envs\\forseti\\lib\\site-packages\\theano\\graph\\toolbox.py\", line 612, in replace_all_validate_remove\n",
      "    chk = fgraph.replace_all_validate(replacements, reason)\n",
      "  File \"C:\\tools\\Anaconda3\\envs\\forseti\\lib\\site-packages\\theano\\graph\\toolbox.py\", line 543, in replace_all_validate\n",
      "    fgraph.replace(r, new_r, reason=reason, verbose=False)\n",
      "  File \"C:\\tools\\Anaconda3\\envs\\forseti\\lib\\site-packages\\theano\\graph\\fg.py\", line 503, in replace\n",
      "    raise toolbox.BadOptimization(\n",
      "theano.graph.toolbox.BadOptimization: BadOptimization Error \n",
      "  Variable: id 2479235519248 Elemwise{Cast{int64}}.0\n",
      "  Op Elemwise{Cast{int64}}(S_obs)\n",
      "  Value Type: <class 'NoneType'>\n",
      "  Old Value:  None\n",
      "  New Value:  None\n",
      "  Reason:  LocalOptGroup(local_useless_fill,local_useless_alloc,local_subtensor_make_vector,local_useless_elemwise,local_useless_inc_subtensor,local_useless_slice,local_subtensor_of_alloc,local_useless_inc_subtensor_alloc,local_useless_rebroadcast,local_join_1,local_join_empty,local_join_make_vector,local_useless_switch,local_useless_tile,local_useless_split,local_useless_reshape,local_useless_elemwise_comparison,local_useless_reduce,local_view_op,local_merge_alloc,local_useless_topk). The type of the replacement must be the same.\n",
      "  Old Graph:\n",
      "  ViewOp [id A] <TensorType(int8, vector)> 'S'   \n",
      "   |Elemwise{Cast{int64}} [id B] <TensorType(int64, vector)> ''   \n",
      "     |S_obs [id C] <TensorType(int8, vector)>\n",
      "\n",
      "  New Graph:\n",
      "  Elemwise{Cast{int64}} [id B] <TensorType(int64, vector)> ''   \n",
      "\n",
      "\n",
      "Hint: relax the tolerance by setting tensor__cmp_sloppy=1\n",
      "  or even tensor__cmp_sloppy=2 for less-strict comparison\n",
      "\n",
      "\n",
      "ERROR (theano.graph.opt): Optimization failure due to: local_view_op\n",
      "ERROR (theano.graph.opt): node: ViewOp(Elemwise{Cast{int64}}.0)\n",
      "ERROR (theano.graph.opt): TRACEBACK:\n",
      "ERROR (theano.graph.opt): Traceback (most recent call last):\n",
      "  File \"C:\\tools\\Anaconda3\\envs\\forseti\\lib\\site-packages\\theano\\graph\\opt.py\", line 2060, in process_node\n",
      "    fgraph.replace_all_validate_remove(repl_pairs, reason=lopt, remove=remove)\n",
      "  File \"C:\\tools\\Anaconda3\\envs\\forseti\\lib\\site-packages\\theano\\graph\\toolbox.py\", line 612, in replace_all_validate_remove\n",
      "    chk = fgraph.replace_all_validate(replacements, reason)\n",
      "  File \"C:\\tools\\Anaconda3\\envs\\forseti\\lib\\site-packages\\theano\\graph\\toolbox.py\", line 543, in replace_all_validate\n",
      "    fgraph.replace(r, new_r, reason=reason, verbose=False)\n",
      "  File \"C:\\tools\\Anaconda3\\envs\\forseti\\lib\\site-packages\\theano\\graph\\fg.py\", line 503, in replace\n",
      "    raise toolbox.BadOptimization(\n",
      "theano.graph.toolbox.BadOptimization: BadOptimization Error \n",
      "  Variable: id 2479235519248 Elemwise{Cast{int64}}.0\n",
      "  Op Elemwise{Cast{int64}}(S_obs)\n",
      "  Value Type: <class 'NoneType'>\n",
      "  Old Value:  None\n",
      "  New Value:  None\n",
      "  Reason:  local_view_op. The type of the replacement must be the same.\n",
      "  Old Graph:\n",
      "  ViewOp [id A] <TensorType(int8, vector)> 'S'   \n",
      "   |Elemwise{Cast{int64}} [id B] <TensorType(int64, vector)> ''   \n",
      "     |S_obs [id C] <TensorType(int8, vector)>\n",
      "\n",
      "  New Graph:\n",
      "  Elemwise{Cast{int64}} [id B] <TensorType(int64, vector)> ''   \n",
      "\n",
      "\n",
      "Hint: relax the tolerance by setting tensor__cmp_sloppy=1\n",
      "  or even tensor__cmp_sloppy=2 for less-strict comparison\n",
      "\n",
      "\n",
      "ERROR (theano.graph.opt): Optimization failure due to: local_view_op\n",
      "ERROR (theano.graph.opt): node: ViewOp(Elemwise{Cast{int64}}.0)\n",
      "ERROR (theano.graph.opt): TRACEBACK:\n",
      "ERROR (theano.graph.opt): Traceback (most recent call last):\n",
      "  File \"C:\\tools\\Anaconda3\\envs\\forseti\\lib\\site-packages\\theano\\graph\\opt.py\", line 2060, in process_node\n",
      "    fgraph.replace_all_validate_remove(repl_pairs, reason=lopt, remove=remove)\n",
      "  File \"C:\\tools\\Anaconda3\\envs\\forseti\\lib\\site-packages\\theano\\graph\\toolbox.py\", line 612, in replace_all_validate_remove\n",
      "    chk = fgraph.replace_all_validate(replacements, reason)\n",
      "  File \"C:\\tools\\Anaconda3\\envs\\forseti\\lib\\site-packages\\theano\\graph\\toolbox.py\", line 543, in replace_all_validate\n",
      "    fgraph.replace(r, new_r, reason=reason, verbose=False)\n",
      "  File \"C:\\tools\\Anaconda3\\envs\\forseti\\lib\\site-packages\\theano\\graph\\fg.py\", line 503, in replace\n",
      "    raise toolbox.BadOptimization(\n",
      "theano.graph.toolbox.BadOptimization: BadOptimization Error \n",
      "  Variable: id 2479235519248 Elemwise{Cast{int64}}.0\n",
      "  Op Elemwise{Cast{int64}}(S_obs)\n",
      "  Value Type: <class 'NoneType'>\n",
      "  Old Value:  None\n",
      "  New Value:  None\n",
      "  Reason:  local_view_op. The type of the replacement must be the same.\n",
      "  Old Graph:\n",
      "  ViewOp [id A] <TensorType(int8, vector)> 'S'   \n",
      "   |Elemwise{Cast{int64}} [id B] <TensorType(int64, vector)> ''   \n",
      "     |S_obs [id C] <TensorType(int8, vector)>\n",
      "\n",
      "  New Graph:\n",
      "  Elemwise{Cast{int64}} [id B] <TensorType(int64, vector)> ''   \n",
      "\n",
      "\n",
      "Hint: relax the tolerance by setting tensor__cmp_sloppy=1\n",
      "  or even tensor__cmp_sloppy=2 for less-strict comparison\n",
      "\n",
      "\n",
      "ERROR (theano.graph.opt): Optimization failure due to: local_view_op\n",
      "ERROR (theano.graph.opt): node: ViewOp(Elemwise{Cast{int64}}.0)\n",
      "ERROR (theano.graph.opt): TRACEBACK:\n",
      "ERROR (theano.graph.opt): Traceback (most recent call last):\n",
      "  File \"C:\\tools\\Anaconda3\\envs\\forseti\\lib\\site-packages\\theano\\graph\\opt.py\", line 2060, in process_node\n",
      "    fgraph.replace_all_validate_remove(repl_pairs, reason=lopt, remove=remove)\n",
      "  File \"C:\\tools\\Anaconda3\\envs\\forseti\\lib\\site-packages\\theano\\graph\\toolbox.py\", line 612, in replace_all_validate_remove\n",
      "    chk = fgraph.replace_all_validate(replacements, reason)\n",
      "  File \"C:\\tools\\Anaconda3\\envs\\forseti\\lib\\site-packages\\theano\\graph\\toolbox.py\", line 543, in replace_all_validate\n",
      "    fgraph.replace(r, new_r, reason=reason, verbose=False)\n",
      "  File \"C:\\tools\\Anaconda3\\envs\\forseti\\lib\\site-packages\\theano\\graph\\fg.py\", line 503, in replace\n",
      "    raise toolbox.BadOptimization(\n",
      "theano.graph.toolbox.BadOptimization: BadOptimization Error \n",
      "  Variable: id 2479235519248 Elemwise{Cast{int64}}.0\n",
      "  Op Elemwise{Cast{int64}}(S_obs)\n",
      "  Value Type: <class 'NoneType'>\n",
      "  Old Value:  None\n",
      "  New Value:  None\n",
      "  Reason:  local_view_op. The type of the replacement must be the same.\n",
      "  Old Graph:\n",
      "  ViewOp [id A] <TensorType(int8, vector)> 'S'   \n",
      "   |Elemwise{Cast{int64}} [id B] <TensorType(int64, vector)> ''   \n",
      "     |S_obs [id C] <TensorType(int8, vector)>\n",
      "\n",
      "  New Graph:\n",
      "  Elemwise{Cast{int64}} [id B] <TensorType(int64, vector)> ''   \n",
      "\n",
      "\n",
      "Hint: relax the tolerance by setting tensor__cmp_sloppy=1\n",
      "  or even tensor__cmp_sloppy=2 for less-strict comparison\n",
      "\n",
      "\n"
     ]
    },
    {
     "ename": "TypeError",
     "evalue": "expected type_num 1 (NPY_INT8) got 9\nApply node that caused the error: Elemwise{mul,no_inplace}(InplaceDimShuffle{x,x}.0, InplaceDimShuffle{x,0}.0, InplaceDimShuffle{x,x}.0)\nToposort index: 8\nInputs types: [TensorType(int64, (True, True)), TensorType(int8, row), TensorType(float64, (True, True))]\nInputs shapes: [(1, 1), (1, 100), (1, 1)]\nInputs strides: [(8, 8), (800, 8), (8, 8)]\nInputs values: [array([[0]], dtype=int64), 'not shown', array([[0.]])]\nOutputs clients: [[Softmax(Elemwise{mul,no_inplace}.0)]]\n\nHINT: Re-running with most Theano optimization disabled could give you a back-trace of when this node was created. This can be done with by setting the Theano flag 'optimizer=fast_compile'. If that does not work, Theano optimizations can be disabled with 'optimizer=None'.\nHINT: Use the Theano flag 'exception_verbosity=high' for a debugprint and storage map footprint of this apply node.",
     "output_type": "error",
     "traceback": [
      "\u001b[1;31m---------------------------------------------------------------------------\u001b[0m",
      "\u001b[1;31mTypeError\u001b[0m                                 Traceback (most recent call last)",
      "\u001b[1;32mC:\\tools\\Anaconda3\\envs\\forseti\\lib\\site-packages\\theano\\compile\\function\\types.py\u001b[0m in \u001b[0;36m__call__\u001b[1;34m(self, *args, **kwargs)\u001b[0m\n\u001b[0;32m    973\u001b[0m             outputs = (\n\u001b[1;32m--> 974\u001b[1;33m                 \u001b[0mself\u001b[0m\u001b[1;33m.\u001b[0m\u001b[0mfn\u001b[0m\u001b[1;33m(\u001b[0m\u001b[1;33m)\u001b[0m\u001b[1;33m\u001b[0m\u001b[1;33m\u001b[0m\u001b[0m\n\u001b[0m\u001b[0;32m    975\u001b[0m                 \u001b[1;32mif\u001b[0m \u001b[0moutput_subset\u001b[0m \u001b[1;32mis\u001b[0m \u001b[1;32mNone\u001b[0m\u001b[1;33m\u001b[0m\u001b[1;33m\u001b[0m\u001b[0m\n",
      "\u001b[1;31mTypeError\u001b[0m: expected type_num 1 (NPY_INT8) got 9",
      "\nDuring handling of the above exception, another exception occurred:\n",
      "\u001b[1;31mTypeError\u001b[0m                                 Traceback (most recent call last)",
      "\u001b[1;32m~\\AppData\\Local\\Temp/ipykernel_16992/1814055227.py\u001b[0m in \u001b[0;36m<module>\u001b[1;34m\u001b[0m\n\u001b[0;32m     25\u001b[0m     \u001b[0mp\u001b[0m \u001b[1;33m=\u001b[0m \u001b[0mtt\u001b[0m\u001b[1;33m.\u001b[0m\u001b[0mnnet\u001b[0m\u001b[1;33m.\u001b[0m\u001b[0msoftmax\u001b[0m\u001b[1;33m(\u001b[0m\u001b[0mmu\u001b[0m\u001b[1;33m)\u001b[0m\u001b[1;33m\u001b[0m\u001b[1;33m\u001b[0m\u001b[0m\n\u001b[0;32m     26\u001b[0m     \u001b[0mW\u001b[0m \u001b[1;33m=\u001b[0m \u001b[0mpm\u001b[0m\u001b[1;33m.\u001b[0m\u001b[0mCategorical\u001b[0m\u001b[1;33m(\u001b[0m\u001b[1;34m'W'\u001b[0m\u001b[1;33m,\u001b[0m \u001b[0mp\u001b[0m\u001b[1;33m=\u001b[0m\u001b[0mp\u001b[0m\u001b[1;33m,\u001b[0m \u001b[0mobserved\u001b[0m\u001b[1;33m=\u001b[0m\u001b[0mW_shared\u001b[0m\u001b[1;33m)\u001b[0m\u001b[1;33m\u001b[0m\u001b[1;33m\u001b[0m\u001b[0m\n\u001b[1;32m---> 27\u001b[1;33m     \u001b[0mtrace\u001b[0m \u001b[1;33m=\u001b[0m \u001b[0mpm\u001b[0m\u001b[1;33m.\u001b[0m\u001b[0msample\u001b[0m\u001b[1;33m(\u001b[0m\u001b[1;33m)\u001b[0m\u001b[1;33m\u001b[0m\u001b[1;33m\u001b[0m\u001b[0m\n\u001b[0m\u001b[0;32m     28\u001b[0m     \u001b[0midata\u001b[0m \u001b[1;33m=\u001b[0m \u001b[0maz\u001b[0m\u001b[1;33m.\u001b[0m\u001b[0mfrom_pymc3\u001b[0m\u001b[1;33m(\u001b[0m\u001b[0mtrace\u001b[0m\u001b[1;33m)\u001b[0m\u001b[1;33m\u001b[0m\u001b[1;33m\u001b[0m\u001b[0m\n\u001b[0;32m     29\u001b[0m \u001b[1;33m\u001b[0m\u001b[0m\n",
      "\u001b[1;32mC:\\tools\\Anaconda3\\envs\\forseti\\lib\\site-packages\\pymc3\\sampling.py\u001b[0m in \u001b[0;36msample\u001b[1;34m(draws, step, init, n_init, start, trace, chain_idx, chains, cores, tune, progressbar, model, random_seed, discard_tuned_samples, compute_convergence_checks, callback, jitter_max_retries, return_inferencedata, idata_kwargs, mp_ctx, pickle_backend, **kwargs)\u001b[0m\n\u001b[0;32m    426\u001b[0m     \u001b[0mstart\u001b[0m \u001b[1;33m=\u001b[0m \u001b[0mdeepcopy\u001b[0m\u001b[1;33m(\u001b[0m\u001b[0mstart\u001b[0m\u001b[1;33m)\u001b[0m\u001b[1;33m\u001b[0m\u001b[1;33m\u001b[0m\u001b[0m\n\u001b[0;32m    427\u001b[0m     \u001b[1;32mif\u001b[0m \u001b[0mstart\u001b[0m \u001b[1;32mis\u001b[0m \u001b[1;32mNone\u001b[0m\u001b[1;33m:\u001b[0m\u001b[1;33m\u001b[0m\u001b[1;33m\u001b[0m\u001b[0m\n\u001b[1;32m--> 428\u001b[1;33m         \u001b[0mcheck_start_vals\u001b[0m\u001b[1;33m(\u001b[0m\u001b[0mmodel\u001b[0m\u001b[1;33m.\u001b[0m\u001b[0mtest_point\u001b[0m\u001b[1;33m,\u001b[0m \u001b[0mmodel\u001b[0m\u001b[1;33m)\u001b[0m\u001b[1;33m\u001b[0m\u001b[1;33m\u001b[0m\u001b[0m\n\u001b[0m\u001b[0;32m    429\u001b[0m     \u001b[1;32melse\u001b[0m\u001b[1;33m:\u001b[0m\u001b[1;33m\u001b[0m\u001b[1;33m\u001b[0m\u001b[0m\n\u001b[0;32m    430\u001b[0m         \u001b[1;32mif\u001b[0m \u001b[0misinstance\u001b[0m\u001b[1;33m(\u001b[0m\u001b[0mstart\u001b[0m\u001b[1;33m,\u001b[0m \u001b[0mdict\u001b[0m\u001b[1;33m)\u001b[0m\u001b[1;33m:\u001b[0m\u001b[1;33m\u001b[0m\u001b[1;33m\u001b[0m\u001b[0m\n",
      "\u001b[1;32mC:\\tools\\Anaconda3\\envs\\forseti\\lib\\site-packages\\pymc3\\util.py\u001b[0m in \u001b[0;36mcheck_start_vals\u001b[1;34m(start, model)\u001b[0m\n\u001b[0;32m    232\u001b[0m             )\n\u001b[0;32m    233\u001b[0m \u001b[1;33m\u001b[0m\u001b[0m\n\u001b[1;32m--> 234\u001b[1;33m         \u001b[0minitial_eval\u001b[0m \u001b[1;33m=\u001b[0m \u001b[0mmodel\u001b[0m\u001b[1;33m.\u001b[0m\u001b[0mcheck_test_point\u001b[0m\u001b[1;33m(\u001b[0m\u001b[0mtest_point\u001b[0m\u001b[1;33m=\u001b[0m\u001b[0melem\u001b[0m\u001b[1;33m)\u001b[0m\u001b[1;33m\u001b[0m\u001b[1;33m\u001b[0m\u001b[0m\n\u001b[0m\u001b[0;32m    235\u001b[0m \u001b[1;33m\u001b[0m\u001b[0m\n\u001b[0;32m    236\u001b[0m         \u001b[1;32mif\u001b[0m \u001b[1;32mnot\u001b[0m \u001b[0mnp\u001b[0m\u001b[1;33m.\u001b[0m\u001b[0mall\u001b[0m\u001b[1;33m(\u001b[0m\u001b[0mnp\u001b[0m\u001b[1;33m.\u001b[0m\u001b[0misfinite\u001b[0m\u001b[1;33m(\u001b[0m\u001b[0minitial_eval\u001b[0m\u001b[1;33m)\u001b[0m\u001b[1;33m)\u001b[0m\u001b[1;33m:\u001b[0m\u001b[1;33m\u001b[0m\u001b[1;33m\u001b[0m\u001b[0m\n",
      "\u001b[1;32mC:\\tools\\Anaconda3\\envs\\forseti\\lib\\site-packages\\pymc3\\model.py\u001b[0m in \u001b[0;36mcheck_test_point\u001b[1;34m(self, test_point, round_vals)\u001b[0m\n\u001b[0;32m   1382\u001b[0m \u001b[1;33m\u001b[0m\u001b[0m\n\u001b[0;32m   1383\u001b[0m         return Series(\n\u001b[1;32m-> 1384\u001b[1;33m             \u001b[1;33m{\u001b[0m\u001b[0mRV\u001b[0m\u001b[1;33m.\u001b[0m\u001b[0mname\u001b[0m\u001b[1;33m:\u001b[0m \u001b[0mnp\u001b[0m\u001b[1;33m.\u001b[0m\u001b[0mround\u001b[0m\u001b[1;33m(\u001b[0m\u001b[0mRV\u001b[0m\u001b[1;33m.\u001b[0m\u001b[0mlogp\u001b[0m\u001b[1;33m(\u001b[0m\u001b[0mtest_point\u001b[0m\u001b[1;33m)\u001b[0m\u001b[1;33m,\u001b[0m \u001b[0mround_vals\u001b[0m\u001b[1;33m)\u001b[0m \u001b[1;32mfor\u001b[0m \u001b[0mRV\u001b[0m \u001b[1;32min\u001b[0m \u001b[0mself\u001b[0m\u001b[1;33m.\u001b[0m\u001b[0mbasic_RVs\u001b[0m\u001b[1;33m}\u001b[0m\u001b[1;33m,\u001b[0m\u001b[1;33m\u001b[0m\u001b[1;33m\u001b[0m\u001b[0m\n\u001b[0m\u001b[0;32m   1385\u001b[0m             \u001b[0mname\u001b[0m\u001b[1;33m=\u001b[0m\u001b[1;34m\"Log-probability of test_point\"\u001b[0m\u001b[1;33m,\u001b[0m\u001b[1;33m\u001b[0m\u001b[1;33m\u001b[0m\u001b[0m\n\u001b[0;32m   1386\u001b[0m         )\n",
      "\u001b[1;32mC:\\tools\\Anaconda3\\envs\\forseti\\lib\\site-packages\\pymc3\\model.py\u001b[0m in \u001b[0;36m<dictcomp>\u001b[1;34m(.0)\u001b[0m\n\u001b[0;32m   1382\u001b[0m \u001b[1;33m\u001b[0m\u001b[0m\n\u001b[0;32m   1383\u001b[0m         return Series(\n\u001b[1;32m-> 1384\u001b[1;33m             \u001b[1;33m{\u001b[0m\u001b[0mRV\u001b[0m\u001b[1;33m.\u001b[0m\u001b[0mname\u001b[0m\u001b[1;33m:\u001b[0m \u001b[0mnp\u001b[0m\u001b[1;33m.\u001b[0m\u001b[0mround\u001b[0m\u001b[1;33m(\u001b[0m\u001b[0mRV\u001b[0m\u001b[1;33m.\u001b[0m\u001b[0mlogp\u001b[0m\u001b[1;33m(\u001b[0m\u001b[0mtest_point\u001b[0m\u001b[1;33m)\u001b[0m\u001b[1;33m,\u001b[0m \u001b[0mround_vals\u001b[0m\u001b[1;33m)\u001b[0m \u001b[1;32mfor\u001b[0m \u001b[0mRV\u001b[0m \u001b[1;32min\u001b[0m \u001b[0mself\u001b[0m\u001b[1;33m.\u001b[0m\u001b[0mbasic_RVs\u001b[0m\u001b[1;33m}\u001b[0m\u001b[1;33m,\u001b[0m\u001b[1;33m\u001b[0m\u001b[1;33m\u001b[0m\u001b[0m\n\u001b[0m\u001b[0;32m   1385\u001b[0m             \u001b[0mname\u001b[0m\u001b[1;33m=\u001b[0m\u001b[1;34m\"Log-probability of test_point\"\u001b[0m\u001b[1;33m,\u001b[0m\u001b[1;33m\u001b[0m\u001b[1;33m\u001b[0m\u001b[0m\n\u001b[0;32m   1386\u001b[0m         )\n",
      "\u001b[1;32mC:\\tools\\Anaconda3\\envs\\forseti\\lib\\site-packages\\pymc3\\model.py\u001b[0m in \u001b[0;36m__call__\u001b[1;34m(self, *args, **kwargs)\u001b[0m\n\u001b[0;32m   1559\u001b[0m     \u001b[1;32mdef\u001b[0m \u001b[0m__call__\u001b[0m\u001b[1;33m(\u001b[0m\u001b[0mself\u001b[0m\u001b[1;33m,\u001b[0m \u001b[1;33m*\u001b[0m\u001b[0margs\u001b[0m\u001b[1;33m,\u001b[0m \u001b[1;33m**\u001b[0m\u001b[0mkwargs\u001b[0m\u001b[1;33m)\u001b[0m\u001b[1;33m:\u001b[0m\u001b[1;33m\u001b[0m\u001b[1;33m\u001b[0m\u001b[0m\n\u001b[0;32m   1560\u001b[0m         \u001b[0mpoint\u001b[0m \u001b[1;33m=\u001b[0m \u001b[0mPoint\u001b[0m\u001b[1;33m(\u001b[0m\u001b[0mmodel\u001b[0m\u001b[1;33m=\u001b[0m\u001b[0mself\u001b[0m\u001b[1;33m.\u001b[0m\u001b[0mmodel\u001b[0m\u001b[1;33m,\u001b[0m \u001b[1;33m*\u001b[0m\u001b[0margs\u001b[0m\u001b[1;33m,\u001b[0m \u001b[1;33m**\u001b[0m\u001b[0mkwargs\u001b[0m\u001b[1;33m)\u001b[0m\u001b[1;33m\u001b[0m\u001b[1;33m\u001b[0m\u001b[0m\n\u001b[1;32m-> 1561\u001b[1;33m         \u001b[1;32mreturn\u001b[0m \u001b[0mself\u001b[0m\u001b[1;33m.\u001b[0m\u001b[0mf\u001b[0m\u001b[1;33m(\u001b[0m\u001b[1;33m**\u001b[0m\u001b[0mpoint\u001b[0m\u001b[1;33m)\u001b[0m\u001b[1;33m\u001b[0m\u001b[1;33m\u001b[0m\u001b[0m\n\u001b[0m\u001b[0;32m   1562\u001b[0m \u001b[1;33m\u001b[0m\u001b[0m\n\u001b[0;32m   1563\u001b[0m \u001b[1;33m\u001b[0m\u001b[0m\n",
      "\u001b[1;32mC:\\tools\\Anaconda3\\envs\\forseti\\lib\\site-packages\\theano\\compile\\function\\types.py\u001b[0m in \u001b[0;36m__call__\u001b[1;34m(self, *args, **kwargs)\u001b[0m\n\u001b[0;32m    985\u001b[0m                 \u001b[1;32mif\u001b[0m \u001b[0mhasattr\u001b[0m\u001b[1;33m(\u001b[0m\u001b[0mself\u001b[0m\u001b[1;33m.\u001b[0m\u001b[0mfn\u001b[0m\u001b[1;33m,\u001b[0m \u001b[1;34m\"thunks\"\u001b[0m\u001b[1;33m)\u001b[0m\u001b[1;33m:\u001b[0m\u001b[1;33m\u001b[0m\u001b[1;33m\u001b[0m\u001b[0m\n\u001b[0;32m    986\u001b[0m                     \u001b[0mthunk\u001b[0m \u001b[1;33m=\u001b[0m \u001b[0mself\u001b[0m\u001b[1;33m.\u001b[0m\u001b[0mfn\u001b[0m\u001b[1;33m.\u001b[0m\u001b[0mthunks\u001b[0m\u001b[1;33m[\u001b[0m\u001b[0mself\u001b[0m\u001b[1;33m.\u001b[0m\u001b[0mfn\u001b[0m\u001b[1;33m.\u001b[0m\u001b[0mposition_of_error\u001b[0m\u001b[1;33m]\u001b[0m\u001b[1;33m\u001b[0m\u001b[1;33m\u001b[0m\u001b[0m\n\u001b[1;32m--> 987\u001b[1;33m                 raise_with_op(\n\u001b[0m\u001b[0;32m    988\u001b[0m                     \u001b[0mself\u001b[0m\u001b[1;33m.\u001b[0m\u001b[0mmaker\u001b[0m\u001b[1;33m.\u001b[0m\u001b[0mfgraph\u001b[0m\u001b[1;33m,\u001b[0m\u001b[1;33m\u001b[0m\u001b[1;33m\u001b[0m\u001b[0m\n\u001b[0;32m    989\u001b[0m                     \u001b[0mnode\u001b[0m\u001b[1;33m=\u001b[0m\u001b[0mself\u001b[0m\u001b[1;33m.\u001b[0m\u001b[0mfn\u001b[0m\u001b[1;33m.\u001b[0m\u001b[0mnodes\u001b[0m\u001b[1;33m[\u001b[0m\u001b[0mself\u001b[0m\u001b[1;33m.\u001b[0m\u001b[0mfn\u001b[0m\u001b[1;33m.\u001b[0m\u001b[0mposition_of_error\u001b[0m\u001b[1;33m]\u001b[0m\u001b[1;33m,\u001b[0m\u001b[1;33m\u001b[0m\u001b[1;33m\u001b[0m\u001b[0m\n",
      "\u001b[1;32mC:\\tools\\Anaconda3\\envs\\forseti\\lib\\site-packages\\theano\\link\\utils.py\u001b[0m in \u001b[0;36mraise_with_op\u001b[1;34m(fgraph, node, thunk, exc_info, storage_map)\u001b[0m\n\u001b[0;32m    506\u001b[0m         \u001b[1;31m# Some exception need extra parameter in inputs. So forget the\u001b[0m\u001b[1;33m\u001b[0m\u001b[1;33m\u001b[0m\u001b[0m\n\u001b[0;32m    507\u001b[0m         \u001b[1;31m# extra long error message in that case.\u001b[0m\u001b[1;33m\u001b[0m\u001b[1;33m\u001b[0m\u001b[0m\n\u001b[1;32m--> 508\u001b[1;33m     \u001b[1;32mraise\u001b[0m \u001b[0mexc_value\u001b[0m\u001b[1;33m.\u001b[0m\u001b[0mwith_traceback\u001b[0m\u001b[1;33m(\u001b[0m\u001b[0mexc_trace\u001b[0m\u001b[1;33m)\u001b[0m\u001b[1;33m\u001b[0m\u001b[1;33m\u001b[0m\u001b[0m\n\u001b[0m\u001b[0;32m    509\u001b[0m \u001b[1;33m\u001b[0m\u001b[0m\n\u001b[0;32m    510\u001b[0m \u001b[1;33m\u001b[0m\u001b[0m\n",
      "\u001b[1;32mC:\\tools\\Anaconda3\\envs\\forseti\\lib\\site-packages\\theano\\compile\\function\\types.py\u001b[0m in \u001b[0;36m__call__\u001b[1;34m(self, *args, **kwargs)\u001b[0m\n\u001b[0;32m    972\u001b[0m         \u001b[1;32mtry\u001b[0m\u001b[1;33m:\u001b[0m\u001b[1;33m\u001b[0m\u001b[1;33m\u001b[0m\u001b[0m\n\u001b[0;32m    973\u001b[0m             outputs = (\n\u001b[1;32m--> 974\u001b[1;33m                 \u001b[0mself\u001b[0m\u001b[1;33m.\u001b[0m\u001b[0mfn\u001b[0m\u001b[1;33m(\u001b[0m\u001b[1;33m)\u001b[0m\u001b[1;33m\u001b[0m\u001b[1;33m\u001b[0m\u001b[0m\n\u001b[0m\u001b[0;32m    975\u001b[0m                 \u001b[1;32mif\u001b[0m \u001b[0moutput_subset\u001b[0m \u001b[1;32mis\u001b[0m \u001b[1;32mNone\u001b[0m\u001b[1;33m\u001b[0m\u001b[1;33m\u001b[0m\u001b[0m\n\u001b[0;32m    976\u001b[0m                 \u001b[1;32melse\u001b[0m \u001b[0mself\u001b[0m\u001b[1;33m.\u001b[0m\u001b[0mfn\u001b[0m\u001b[1;33m(\u001b[0m\u001b[0moutput_subset\u001b[0m\u001b[1;33m=\u001b[0m\u001b[0moutput_subset\u001b[0m\u001b[1;33m)\u001b[0m\u001b[1;33m\u001b[0m\u001b[1;33m\u001b[0m\u001b[0m\n",
      "\u001b[1;31mTypeError\u001b[0m: expected type_num 1 (NPY_INT8) got 9\nApply node that caused the error: Elemwise{mul,no_inplace}(InplaceDimShuffle{x,x}.0, InplaceDimShuffle{x,0}.0, InplaceDimShuffle{x,x}.0)\nToposort index: 8\nInputs types: [TensorType(int64, (True, True)), TensorType(int8, row), TensorType(float64, (True, True))]\nInputs shapes: [(1, 1), (1, 100), (1, 1)]\nInputs strides: [(8, 8), (800, 8), (8, 8)]\nInputs values: [array([[0]], dtype=int64), 'not shown', array([[0.]])]\nOutputs clients: [[Softmax(Elemwise{mul,no_inplace}.0)]]\n\nHINT: Re-running with most Theano optimization disabled could give you a back-trace of when this node was created. This can be done with by setting the Theano flag 'optimizer=fast_compile'. If that does not work, Theano optimizations can be disabled with 'optimizer=None'.\nHINT: Use the Theano flag 'exception_verbosity=high' for a debugprint and storage map footprint of this apply node."
     ]
    }
   ],
   "source": [
    "with pm.Model() as model:\n",
    "    W_shared = pm.Data(\"W_obs\", X['workclass'][:100])\n",
    "    D_shared = pm.Data(\"D_obs\", y[:100])\n",
    "    S_shared = pm.Data(\"S_obs\", sensitive['gender'][:100])\n",
    "\n",
    "    # Fair Labels \n",
    "    Fair_p = pm.Beta(\"Fair_p\", alpha=1, beta=1, shape=2)\n",
    "    Df = pm.Categorical(\"Df\", p=Fair_p)\n",
    "\n",
    "    # Sensitive Attributes\n",
    "    Sensitive_p = pm.Beta(\"Sensitive_p\", alpha=1, beta=1, shape=2)\n",
    "    S = pm.Categorical(\"S\", p=Sensitive_p, observed=S_shared)\n",
    "\n",
    "    # Data Labels P(D | S, Df)\n",
    "    Data_p = pm.Beta(\"Data_p\", alpha=1, beta=1, shape=2)\n",
    "    D_beta = pm.Normal('D_beta', mu=0, sd=1)\n",
    "    mu = tt.dot(tt.dot(Df, S), D_beta)\n",
    "    p = tt.nnet.softmax(mu)\n",
    "    D = pm.Categorical(\"D\", p=p, observed=D_shared)\n",
    "\n",
    "    # P(W | Df, S)\n",
    "    beta = pm.Normal('beta', mu=0, sd=1)\n",
    "    mu = tt.dot(tt.dot(Df, S), beta)\n",
    "    p = tt.nnet.softmax(mu)\n",
    "    W = pm.Categorical('W', p=p, observed=W_shared)\n",
    "    trace = pm.sample()\n",
    "    idata = az.from_pymc3(trace)\n",
    "\n",
    "# %%"
   ]
  },
  {
   "cell_type": "code",
   "execution_count": null,
   "metadata": {},
   "outputs": [
    {
     "ename": "KeyError",
     "evalue": "'S_obs'",
     "output_type": "error",
     "traceback": [
      "\u001b[1;31m---------------------------------------------------------------------------\u001b[0m",
      "\u001b[1;31mKeyError\u001b[0m                                  Traceback (most recent call last)",
      "\u001b[1;32mC:\\tools\\Anaconda3\\envs\\forseti\\lib\\site-packages\\pymc3\\model.py\u001b[0m in \u001b[0;36m__getitem__\u001b[1;34m(self, key)\u001b[0m\n\u001b[0;32m   1235\u001b[0m             \u001b[1;32mtry\u001b[0m\u001b[1;33m:\u001b[0m\u001b[1;33m\u001b[0m\u001b[1;33m\u001b[0m\u001b[0m\n\u001b[1;32m-> 1236\u001b[1;33m                 \u001b[1;32mreturn\u001b[0m \u001b[0mself\u001b[0m\u001b[1;33m.\u001b[0m\u001b[0mnamed_vars\u001b[0m\u001b[1;33m[\u001b[0m\u001b[0mself\u001b[0m\u001b[1;33m.\u001b[0m\u001b[0mname_for\u001b[0m\u001b[1;33m(\u001b[0m\u001b[0mkey\u001b[0m\u001b[1;33m)\u001b[0m\u001b[1;33m]\u001b[0m\u001b[1;33m\u001b[0m\u001b[1;33m\u001b[0m\u001b[0m\n\u001b[0m\u001b[0;32m   1237\u001b[0m             \u001b[1;32mexcept\u001b[0m \u001b[0mKeyError\u001b[0m\u001b[1;33m:\u001b[0m\u001b[1;33m\u001b[0m\u001b[1;33m\u001b[0m\u001b[0m\n",
      "\u001b[1;31mKeyError\u001b[0m: 'S_obs'",
      "\nDuring handling of the above exception, another exception occurred:\n",
      "\u001b[1;31mKeyError\u001b[0m                                  Traceback (most recent call last)",
      "\u001b[1;32m~\\AppData\\Local\\Temp/ipykernel_5916/3172450505.py\u001b[0m in \u001b[0;36m<module>\u001b[1;34m\u001b[0m\n\u001b[0;32m      1\u001b[0m \u001b[1;32mwith\u001b[0m \u001b[0mmodel\u001b[0m\u001b[1;33m:\u001b[0m\u001b[1;33m\u001b[0m\u001b[1;33m\u001b[0m\u001b[0m\n\u001b[0;32m      2\u001b[0m     \u001b[1;31m# change the value and shape of the data\u001b[0m\u001b[1;33m\u001b[0m\u001b[1;33m\u001b[0m\u001b[0m\n\u001b[1;32m----> 3\u001b[1;33m     pm.set_data(\n\u001b[0m\u001b[0;32m      4\u001b[0m         {\n\u001b[0;32m      5\u001b[0m             \u001b[1;34m\"S_obs\"\u001b[0m\u001b[1;33m:\u001b[0m \u001b[0msensitive\u001b[0m\u001b[1;33m[\u001b[0m\u001b[1;34m'gender'\u001b[0m\u001b[1;33m]\u001b[0m\u001b[1;33m[\u001b[0m\u001b[1;36m1001\u001b[0m\u001b[1;33m]\u001b[0m\u001b[1;33m,\u001b[0m\u001b[1;33m\u001b[0m\u001b[1;33m\u001b[0m\u001b[0m\n",
      "\u001b[1;32mC:\\tools\\Anaconda3\\envs\\forseti\\lib\\site-packages\\pymc3\\model.py\u001b[0m in \u001b[0;36mset_data\u001b[1;34m(new_data, model)\u001b[0m\n\u001b[0;32m   1469\u001b[0m \u001b[1;33m\u001b[0m\u001b[0m\n\u001b[0;32m   1470\u001b[0m     \u001b[1;32mfor\u001b[0m \u001b[0mvariable_name\u001b[0m\u001b[1;33m,\u001b[0m \u001b[0mnew_value\u001b[0m \u001b[1;32min\u001b[0m \u001b[0mnew_data\u001b[0m\u001b[1;33m.\u001b[0m\u001b[0mitems\u001b[0m\u001b[1;33m(\u001b[0m\u001b[1;33m)\u001b[0m\u001b[1;33m:\u001b[0m\u001b[1;33m\u001b[0m\u001b[1;33m\u001b[0m\u001b[0m\n\u001b[1;32m-> 1471\u001b[1;33m         \u001b[1;32mif\u001b[0m \u001b[0misinstance\u001b[0m\u001b[1;33m(\u001b[0m\u001b[0mmodel\u001b[0m\u001b[1;33m[\u001b[0m\u001b[0mvariable_name\u001b[0m\u001b[1;33m]\u001b[0m\u001b[1;33m,\u001b[0m \u001b[0mSharedVariable\u001b[0m\u001b[1;33m)\u001b[0m\u001b[1;33m:\u001b[0m\u001b[1;33m\u001b[0m\u001b[1;33m\u001b[0m\u001b[0m\n\u001b[0m\u001b[0;32m   1472\u001b[0m             \u001b[1;32mif\u001b[0m \u001b[0misinstance\u001b[0m\u001b[1;33m(\u001b[0m\u001b[0mnew_value\u001b[0m\u001b[1;33m,\u001b[0m \u001b[0mlist\u001b[0m\u001b[1;33m)\u001b[0m\u001b[1;33m:\u001b[0m\u001b[1;33m\u001b[0m\u001b[1;33m\u001b[0m\u001b[0m\n\u001b[0;32m   1473\u001b[0m                 \u001b[0mnew_value\u001b[0m \u001b[1;33m=\u001b[0m \u001b[0mnp\u001b[0m\u001b[1;33m.\u001b[0m\u001b[0marray\u001b[0m\u001b[1;33m(\u001b[0m\u001b[0mnew_value\u001b[0m\u001b[1;33m)\u001b[0m\u001b[1;33m\u001b[0m\u001b[1;33m\u001b[0m\u001b[0m\n",
      "\u001b[1;32mC:\\tools\\Anaconda3\\envs\\forseti\\lib\\site-packages\\pymc3\\model.py\u001b[0m in \u001b[0;36m__getitem__\u001b[1;34m(self, key)\u001b[0m\n\u001b[0;32m   1236\u001b[0m                 \u001b[1;32mreturn\u001b[0m \u001b[0mself\u001b[0m\u001b[1;33m.\u001b[0m\u001b[0mnamed_vars\u001b[0m\u001b[1;33m[\u001b[0m\u001b[0mself\u001b[0m\u001b[1;33m.\u001b[0m\u001b[0mname_for\u001b[0m\u001b[1;33m(\u001b[0m\u001b[0mkey\u001b[0m\u001b[1;33m)\u001b[0m\u001b[1;33m]\u001b[0m\u001b[1;33m\u001b[0m\u001b[1;33m\u001b[0m\u001b[0m\n\u001b[0;32m   1237\u001b[0m             \u001b[1;32mexcept\u001b[0m \u001b[0mKeyError\u001b[0m\u001b[1;33m:\u001b[0m\u001b[1;33m\u001b[0m\u001b[1;33m\u001b[0m\u001b[0m\n\u001b[1;32m-> 1238\u001b[1;33m                 \u001b[1;32mraise\u001b[0m \u001b[0me\u001b[0m\u001b[1;33m\u001b[0m\u001b[1;33m\u001b[0m\u001b[0m\n\u001b[0m\u001b[0;32m   1239\u001b[0m \u001b[1;33m\u001b[0m\u001b[0m\n\u001b[0;32m   1240\u001b[0m     \u001b[1;32mdef\u001b[0m \u001b[0mmakefn\u001b[0m\u001b[1;33m(\u001b[0m\u001b[0mself\u001b[0m\u001b[1;33m,\u001b[0m \u001b[0mouts\u001b[0m\u001b[1;33m,\u001b[0m \u001b[0mmode\u001b[0m\u001b[1;33m=\u001b[0m\u001b[1;32mNone\u001b[0m\u001b[1;33m,\u001b[0m \u001b[1;33m*\u001b[0m\u001b[0margs\u001b[0m\u001b[1;33m,\u001b[0m \u001b[1;33m**\u001b[0m\u001b[0mkwargs\u001b[0m\u001b[1;33m)\u001b[0m\u001b[1;33m:\u001b[0m\u001b[1;33m\u001b[0m\u001b[1;33m\u001b[0m\u001b[0m\n",
      "\u001b[1;32mC:\\tools\\Anaconda3\\envs\\forseti\\lib\\site-packages\\pymc3\\model.py\u001b[0m in \u001b[0;36m__getitem__\u001b[1;34m(self, key)\u001b[0m\n\u001b[0;32m   1231\u001b[0m     \u001b[1;32mdef\u001b[0m \u001b[0m__getitem__\u001b[0m\u001b[1;33m(\u001b[0m\u001b[0mself\u001b[0m\u001b[1;33m,\u001b[0m \u001b[0mkey\u001b[0m\u001b[1;33m)\u001b[0m\u001b[1;33m:\u001b[0m\u001b[1;33m\u001b[0m\u001b[1;33m\u001b[0m\u001b[0m\n\u001b[0;32m   1232\u001b[0m         \u001b[1;32mtry\u001b[0m\u001b[1;33m:\u001b[0m\u001b[1;33m\u001b[0m\u001b[1;33m\u001b[0m\u001b[0m\n\u001b[1;32m-> 1233\u001b[1;33m             \u001b[1;32mreturn\u001b[0m \u001b[0mself\u001b[0m\u001b[1;33m.\u001b[0m\u001b[0mnamed_vars\u001b[0m\u001b[1;33m[\u001b[0m\u001b[0mkey\u001b[0m\u001b[1;33m]\u001b[0m\u001b[1;33m\u001b[0m\u001b[1;33m\u001b[0m\u001b[0m\n\u001b[0m\u001b[0;32m   1234\u001b[0m         \u001b[1;32mexcept\u001b[0m \u001b[0mKeyError\u001b[0m \u001b[1;32mas\u001b[0m \u001b[0me\u001b[0m\u001b[1;33m:\u001b[0m\u001b[1;33m\u001b[0m\u001b[1;33m\u001b[0m\u001b[0m\n\u001b[0;32m   1235\u001b[0m             \u001b[1;32mtry\u001b[0m\u001b[1;33m:\u001b[0m\u001b[1;33m\u001b[0m\u001b[1;33m\u001b[0m\u001b[0m\n",
      "\u001b[1;31mKeyError\u001b[0m: 'S_obs'"
     ]
    }
   ],
   "source": [
    "with model:\n",
    "    # change the value and shape of the data\n",
    "    pm.set_data(\n",
    "        {\n",
    "            \"S_obs\": sensitive['gender'][1001],\n",
    "            \"W_obs\": X['workclass'][1001],\n",
    "\n",
    "            # use dummy values with the same shape:\n",
    "            \"Fair_p\": [0],\n",
    "        }\n",
    "    )\n",
    "\n",
    "    post_pred = pm.sample_posterior_predictive(idata.posterior)\n",
    "\n",
    "post_pred[\"Df\"]"
   ]
  },
  {
   "cell_type": "code",
   "execution_count": null,
   "metadata": {},
   "outputs": [
    {
     "data": {
      "text/plain": [
       "4"
      ]
     },
     "execution_count": 20,
     "metadata": {},
     "output_type": "execute_result"
    }
   ],
   "source": [
    "X['workclass'][1001]"
   ]
  }
 ],
 "metadata": {
  "interpreter": {
   "hash": "dd29c087e73fa7375bf1e02101747c62c69b10311acdbd79d0623f1fb832c9d1"
  },
  "kernelspec": {
   "display_name": "Python 3.9.7 ('forseti')",
   "language": "python",
   "name": "python3"
  },
  "language_info": {
   "codemirror_mode": {
    "name": "ipython",
    "version": 3
   },
   "file_extension": ".py",
   "mimetype": "text/x-python",
   "name": "python",
   "nbconvert_exporter": "python",
   "pygments_lexer": "ipython3",
   "version": "3.9.7"
  },
  "orig_nbformat": 4
 },
 "nbformat": 4,
 "nbformat_minor": 2
}
